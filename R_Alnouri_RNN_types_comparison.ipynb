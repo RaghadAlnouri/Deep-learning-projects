{
  "nbformat": 4,
  "nbformat_minor": 0,
  "metadata": {
    "colab": {
      "name": "R. Alnouri - RNN types comparison.ipynb",
      "provenance": [],
      "collapsed_sections": [],
      "include_colab_link": true
    },
    "kernelspec": {
      "name": "python3",
      "display_name": "Python 3"
    },
    "accelerator": "GPU"
  },
  "cells": [
    {
      "cell_type": "markdown",
      "metadata": {
        "id": "view-in-github",
        "colab_type": "text"
      },
      "source": [
        "<a href=\"https://colab.research.google.com/github/RaghadAlnouri/Raghad/blob/master/R_Alnouri_RNN_types_comparison.ipynb\" target=\"_parent\"><img src=\"https://colab.research.google.com/assets/colab-badge.svg\" alt=\"Open In Colab\"/></a>"
      ]
    },
    {
      "cell_type": "markdown",
      "metadata": {
        "id": "3kyBPdCftP-2",
        "colab_type": "text"
      },
      "source": [
        "# Homework RNNs\n",
        "1. Download and explore data\n",
        "2. Preproceess data if needed\n",
        "3. Create a dataset with group of inputs of some size (between 10 and 50) - Similar to this [example](https://colab.research.google.com/drive/1tj0DRWxVvRC7_b7ubQ46zJo4ZuxT4jbW?authuser=1)\n",
        "4. Split the data into train and test\n",
        "5. Use 3 different RNN types and rank them in terms of performance - only use the functional API of Keras"
      ]
    },
    {
      "cell_type": "code",
      "metadata": {
        "id": "cqjjFsHvtOco",
        "colab_type": "code",
        "outputId": "8bf689a2-93e2-4054-a194-218fc99a6f0a",
        "colab": {
          "base_uri": "https://localhost:8080/",
          "height": 391
        }
      },
      "source": [
        "!wget https://storage.googleapis.com/nicksdemobucket/sunspots.csv\n",
        "\n",
        "# OR\n",
        "\n",
        "!wget https://storage.googleapis.com/nicksdemobucket/temperatures.csv\n",
        "\n",
        "# OR MNIST"
      ],
      "execution_count": 0,
      "outputs": [
        {
          "output_type": "stream",
          "text": [
            "--2020-02-26 15:42:22--  https://storage.googleapis.com/nicksdemobucket/sunspots.csv\n",
            "Resolving storage.googleapis.com (storage.googleapis.com)... 64.233.191.128, 2607:f8b0:4001:c03::80\n",
            "Connecting to storage.googleapis.com (storage.googleapis.com)|64.233.191.128|:443... connected.\n",
            "HTTP request sent, awaiting response... 200 OK\n",
            "Length: 45039 (44K) [application/octet-stream]\n",
            "Saving to: ‘sunspots.csv.6’\n",
            "\n",
            "\rsunspots.csv.6        0%[                    ]       0  --.-KB/s               \rsunspots.csv.6      100%[===================>]  43.98K  --.-KB/s    in 0s      \n",
            "\n",
            "2020-02-26 15:42:22 (155 MB/s) - ‘sunspots.csv.6’ saved [45039/45039]\n",
            "\n",
            "--2020-02-26 15:42:23--  https://storage.googleapis.com/nicksdemobucket/temperatures.csv\n",
            "Resolving storage.googleapis.com (storage.googleapis.com)... 108.177.112.128, 2607:f8b0:4001:c18::80\n",
            "Connecting to storage.googleapis.com (storage.googleapis.com)|108.177.112.128|:443... connected.\n",
            "HTTP request sent, awaiting response... 200 OK\n",
            "Length: 67921 (66K) [text/csv]\n",
            "Saving to: ‘temperatures.csv.5’\n",
            "\n",
            "temperatures.csv.5  100%[===================>]  66.33K  --.-KB/s    in 0s      \n",
            "\n",
            "2020-02-26 15:42:23 (160 MB/s) - ‘temperatures.csv.5’ saved [67921/67921]\n",
            "\n"
          ],
          "name": "stdout"
        }
      ]
    },
    {
      "cell_type": "code",
      "metadata": {
        "id": "R9htFeV2s03l",
        "colab_type": "code",
        "outputId": "11293c17-b956-42d2-fc24-8e56ada9e2f1",
        "colab": {
          "resources": {
            "http://localhost:8080/nbextensions/google.colab/files.js": {
              "data": "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",
              "ok": true,
              "headers": [
                [
                  "content-type",
                  "application/javascript"
                ]
              ],
              "status": 200,
              "status_text": ""
            }
          },
          "base_uri": "https://localhost:8080/",
          "height": 75
        }
      },
      "source": [
        "from google.colab import files\n",
        "uploaded = files.upload()\n"
      ],
      "execution_count": 0,
      "outputs": [
        {
          "output_type": "display_data",
          "data": {
            "text/html": [
              "\n",
              "     <input type=\"file\" id=\"files-388b6280-52b8-42ac-950c-d4210f1e2f90\" name=\"files[]\" multiple disabled />\n",
              "     <output id=\"result-388b6280-52b8-42ac-950c-d4210f1e2f90\">\n",
              "      Upload widget is only available when the cell has been executed in the\n",
              "      current browser session. Please rerun this cell to enable.\n",
              "      </output>\n",
              "      <script src=\"/nbextensions/google.colab/files.js\"></script> "
            ],
            "text/plain": [
              "<IPython.core.display.HTML object>"
            ]
          },
          "metadata": {
            "tags": []
          }
        },
        {
          "output_type": "stream",
          "text": [
            "Saving sunspots.csv to sunspots (6).csv\n"
          ],
          "name": "stdout"
        }
      ]
    },
    {
      "cell_type": "code",
      "metadata": {
        "id": "-g-YZuM38Z1D",
        "colab_type": "code",
        "outputId": "a7d7c374-78e4-4e11-e841-82384d62b980",
        "colab": {
          "base_uri": "https://localhost:8080/",
          "height": 359
        }
      },
      "source": [
        "import pandas as pd\n",
        "import numpy as np\n",
        "\n",
        "df = pd.read_csv('sunspots.csv')\n",
        "\n",
        "df.head(10)"
      ],
      "execution_count": 0,
      "outputs": [
        {
          "output_type": "execute_result",
          "data": {
            "text/html": [
              "<div>\n",
              "<style scoped>\n",
              "    .dataframe tbody tr th:only-of-type {\n",
              "        vertical-align: middle;\n",
              "    }\n",
              "\n",
              "    .dataframe tbody tr th {\n",
              "        vertical-align: top;\n",
              "    }\n",
              "\n",
              "    .dataframe thead th {\n",
              "        text-align: right;\n",
              "    }\n",
              "</style>\n",
              "<table border=\"1\" class=\"dataframe\">\n",
              "  <thead>\n",
              "    <tr style=\"text-align: right;\">\n",
              "      <th></th>\n",
              "      <th>Month</th>\n",
              "      <th>Sunspots</th>\n",
              "    </tr>\n",
              "  </thead>\n",
              "  <tbody>\n",
              "    <tr>\n",
              "      <th>0</th>\n",
              "      <td>1749-01</td>\n",
              "      <td>58.0</td>\n",
              "    </tr>\n",
              "    <tr>\n",
              "      <th>1</th>\n",
              "      <td>1749-02</td>\n",
              "      <td>62.6</td>\n",
              "    </tr>\n",
              "    <tr>\n",
              "      <th>2</th>\n",
              "      <td>1749-03</td>\n",
              "      <td>70.0</td>\n",
              "    </tr>\n",
              "    <tr>\n",
              "      <th>3</th>\n",
              "      <td>1749-04</td>\n",
              "      <td>55.7</td>\n",
              "    </tr>\n",
              "    <tr>\n",
              "      <th>4</th>\n",
              "      <td>1749-05</td>\n",
              "      <td>85.0</td>\n",
              "    </tr>\n",
              "    <tr>\n",
              "      <th>5</th>\n",
              "      <td>1749-06</td>\n",
              "      <td>83.5</td>\n",
              "    </tr>\n",
              "    <tr>\n",
              "      <th>6</th>\n",
              "      <td>1749-07</td>\n",
              "      <td>94.8</td>\n",
              "    </tr>\n",
              "    <tr>\n",
              "      <th>7</th>\n",
              "      <td>1749-08</td>\n",
              "      <td>66.3</td>\n",
              "    </tr>\n",
              "    <tr>\n",
              "      <th>8</th>\n",
              "      <td>1749-09</td>\n",
              "      <td>75.9</td>\n",
              "    </tr>\n",
              "    <tr>\n",
              "      <th>9</th>\n",
              "      <td>1749-10</td>\n",
              "      <td>75.5</td>\n",
              "    </tr>\n",
              "  </tbody>\n",
              "</table>\n",
              "</div>"
            ],
            "text/plain": [
              "     Month  Sunspots\n",
              "0  1749-01      58.0\n",
              "1  1749-02      62.6\n",
              "2  1749-03      70.0\n",
              "3  1749-04      55.7\n",
              "4  1749-05      85.0\n",
              "5  1749-06      83.5\n",
              "6  1749-07      94.8\n",
              "7  1749-08      66.3\n",
              "8  1749-09      75.9\n",
              "9  1749-10      75.5"
            ]
          },
          "metadata": {
            "tags": []
          },
          "execution_count": 3
        }
      ]
    },
    {
      "cell_type": "code",
      "metadata": {
        "id": "ejoTJ52mgnkc",
        "colab_type": "code",
        "colab": {}
      },
      "source": [
        "sequence = df.Sunspots.values\n",
        "sequence_train = sequence[: int(0.5 * len(sequence))] \n",
        "sequence_test = sequence[ int(0.5 * len(sequence)): ]"
      ],
      "execution_count": 0,
      "outputs": []
    },
    {
      "cell_type": "code",
      "metadata": {
        "id": "3acSVpf0c8ra",
        "colab_type": "code",
        "colab": {}
      },
      "source": [
        "def generate_data(sequence, input_sequence_length):\n",
        "  \n",
        "  X = []\n",
        "  y = []\n",
        "\n",
        "  for i in range(len(sequence) - input_sequence_length - 1):\n",
        "    subsequence = sequence[i: i + input_sequence_length]\n",
        "    target = sequence[i + input_sequence_length ]\n",
        "    X.append(subsequence)\n",
        "    y.append(target)\n",
        "\n",
        "  X = np.array(X)\n",
        "  y = np.array(y)\n",
        "  return X, y\n",
        "\n"
      ],
      "execution_count": 0,
      "outputs": []
    },
    {
      "cell_type": "code",
      "metadata": {
        "id": "tDjz0gGkfrwA",
        "colab_type": "code",
        "outputId": "a5368da6-3077-4a42-b000-6cd3250b7c64",
        "colab": {
          "base_uri": "https://localhost:8080/",
          "height": 34
        }
      },
      "source": [
        "input_sequence_length = 50\n",
        "sequence_train_data = generate_data(sequence_train, input_sequence_length)\n",
        "sequence_test_data = generate_data(sequence_test, input_sequence_length)\n",
        "\n",
        "sequence_test_data[0].shape\n"
      ],
      "execution_count": 0,
      "outputs": [
        {
          "output_type": "execute_result",
          "data": {
            "text/plain": [
              "(1359, 50)"
            ]
          },
          "metadata": {
            "tags": []
          },
          "execution_count": 22
        }
      ]
    },
    {
      "cell_type": "code",
      "metadata": {
        "id": "OpuBj1KgYj54",
        "colab_type": "code",
        "outputId": "0fdc9c6e-7daa-486b-b63d-0bcd0ee4ec32",
        "colab": {
          "base_uri": "https://localhost:8080/",
          "height": 34
        }
      },
      "source": [
        "sequence_train_data[1].shape"
      ],
      "execution_count": 0,
      "outputs": [
        {
          "output_type": "execute_result",
          "data": {
            "text/plain": [
              "(1359,)"
            ]
          },
          "metadata": {
            "tags": []
          },
          "execution_count": 23
        }
      ]
    },
    {
      "cell_type": "code",
      "metadata": {
        "id": "xfnoYLPhm6QP",
        "colab_type": "code",
        "colab": {}
      },
      "source": [
        "X, y = sequence_train_data\n",
        "X_test, y_test = sequence_test_data\n",
        "\n",
        "\n",
        "# reshaping\n",
        "X, y = X[:,:,None], y[:,None]\n",
        "X_test, y_test = X_test[:,:,None], y_test[:,None]"
      ],
      "execution_count": 0,
      "outputs": []
    },
    {
      "cell_type": "code",
      "metadata": {
        "id": "FWyRmn4pcpUt",
        "colab_type": "code",
        "colab": {}
      },
      "source": [
        "%tensorflow_version 2.x\n",
        "import tensorflow as tf\n"
      ],
      "execution_count": 0,
      "outputs": []
    },
    {
      "cell_type": "code",
      "metadata": {
        "id": "-6TdK0vpcqc7",
        "colab_type": "code",
        "outputId": "ec128cd8-2541-4261-d3cb-49cea6f2e66f",
        "colab": {
          "base_uri": "https://localhost:8080/",
          "height": 323
        }
      },
      "source": [
        "\n",
        "from tensorflow import keras\n",
        "from tensorflow.keras import layers\n",
        "from tensorflow.keras.layers import Flatten, Dense, Input, Dense, LSTM, SimpleRNN, GRU\n",
        "\n",
        "inputs = Input(shape=(input_sequence_length,1))\n",
        "hidden = SimpleRNN(100, input_shape=(input_sequence_length,), return_sequences=True)(inputs)\n",
        "hidden = SimpleRNN(100, input_shape=(input_sequence_length,100), return_sequences=True)(hidden)\n",
        "hidden = SimpleRNN(100, input_shape=(input_sequence_length,100))(hidden)\n",
        "outputs = Dense(1)(hidden)\n",
        "func_model = keras.Model(inputs=inputs, outputs=outputs, name='Simple_model')\n",
        "func_model.compile(loss=keras.losses.mean_squared_error, optimizer=keras.optimizers.Adam(), \n",
        "                   metrics=[keras.metrics.mean_squared_error ])\n",
        "func_model.summary()\n"
      ],
      "execution_count": 0,
      "outputs": [
        {
          "output_type": "stream",
          "text": [
            "Model: \"Simple_model\"\n",
            "_________________________________________________________________\n",
            "Layer (type)                 Output Shape              Param #   \n",
            "=================================================================\n",
            "input_4 (InputLayer)         [(None, 50, 1)]           0         \n",
            "_________________________________________________________________\n",
            "simple_rnn_3 (SimpleRNN)     (None, 50, 100)           10200     \n",
            "_________________________________________________________________\n",
            "simple_rnn_4 (SimpleRNN)     (None, 50, 100)           20100     \n",
            "_________________________________________________________________\n",
            "simple_rnn_5 (SimpleRNN)     (None, 100)               20100     \n",
            "_________________________________________________________________\n",
            "dense_3 (Dense)              (None, 1)                 101       \n",
            "=================================================================\n",
            "Total params: 50,501\n",
            "Trainable params: 50,501\n",
            "Non-trainable params: 0\n",
            "_________________________________________________________________\n"
          ],
          "name": "stdout"
        }
      ]
    },
    {
      "cell_type": "code",
      "metadata": {
        "id": "qAq6JHLpiEBC",
        "colab_type": "code",
        "outputId": "acb5e7de-5ffe-4dff-c80a-071bcd5803ed",
        "colab": {
          "base_uri": "https://localhost:8080/",
          "height": 1000
        }
      },
      "source": [
        "history_Simple = func_model.fit(X, y, batch_size=200, epochs=50, validation_data=[X_test, y_test])"
      ],
      "execution_count": 0,
      "outputs": [
        {
          "output_type": "stream",
          "text": [
            "Train on 1359 samples, validate on 1359 samples\n",
            "Epoch 1/50\n",
            "1359/1359 [==============================] - 2s 2ms/sample - loss: 3398.0670 - mean_squared_error: 3398.0669 - val_loss: 4537.5648 - val_mean_squared_error: 4537.5649\n",
            "Epoch 2/50\n",
            "1359/1359 [==============================] - 1s 493us/sample - loss: 2994.1992 - mean_squared_error: 2994.1990 - val_loss: 4262.0260 - val_mean_squared_error: 4262.0259\n",
            "Epoch 3/50\n",
            "1359/1359 [==============================] - 1s 530us/sample - loss: 2826.7014 - mean_squared_error: 2826.7017 - val_loss: 4124.8544 - val_mean_squared_error: 4124.8545\n",
            "Epoch 4/50\n",
            "1359/1359 [==============================] - 1s 526us/sample - loss: 2729.1890 - mean_squared_error: 2729.1890 - val_loss: 4023.4834 - val_mean_squared_error: 4023.4834\n",
            "Epoch 5/50\n",
            "1359/1359 [==============================] - 1s 550us/sample - loss: 2653.5247 - mean_squared_error: 2653.5249 - val_loss: 3943.1373 - val_mean_squared_error: 3943.1377\n",
            "Epoch 6/50\n",
            "1359/1359 [==============================] - 1s 546us/sample - loss: 2595.2176 - mean_squared_error: 2595.2175 - val_loss: 3879.1566 - val_mean_squared_error: 3879.1567\n",
            "Epoch 7/50\n",
            "1359/1359 [==============================] - 1s 499us/sample - loss: 2545.6653 - mean_squared_error: 2545.6653 - val_loss: 3818.8990 - val_mean_squared_error: 3818.8992\n",
            "Epoch 8/50\n",
            "1359/1359 [==============================] - 1s 514us/sample - loss: 2498.9102 - mean_squared_error: 2498.9102 - val_loss: 3759.9179 - val_mean_squared_error: 3759.9180\n",
            "Epoch 9/50\n",
            "1359/1359 [==============================] - 1s 567us/sample - loss: 2452.0264 - mean_squared_error: 2452.0264 - val_loss: 3701.2140 - val_mean_squared_error: 3701.2141\n",
            "Epoch 10/50\n",
            "1359/1359 [==============================] - 1s 501us/sample - loss: 2406.6964 - mean_squared_error: 2406.6965 - val_loss: 3643.6230 - val_mean_squared_error: 3643.6228\n",
            "Epoch 11/50\n",
            "1359/1359 [==============================] - 1s 555us/sample - loss: 2362.1349 - mean_squared_error: 2362.1350 - val_loss: 3587.8781 - val_mean_squared_error: 3587.8782\n",
            "Epoch 12/50\n",
            "1359/1359 [==============================] - 1s 544us/sample - loss: 2318.0540 - mean_squared_error: 2318.0542 - val_loss: 3533.4297 - val_mean_squared_error: 3533.4297\n",
            "Epoch 13/50\n",
            "1359/1359 [==============================] - 1s 501us/sample - loss: 2275.1576 - mean_squared_error: 2275.1577 - val_loss: 3480.5487 - val_mean_squared_error: 3480.5488\n",
            "Epoch 14/50\n",
            "1359/1359 [==============================] - 1s 492us/sample - loss: 2233.6319 - mean_squared_error: 2233.6318 - val_loss: 3427.8734 - val_mean_squared_error: 3427.8735\n",
            "Epoch 15/50\n",
            "1359/1359 [==============================] - 1s 538us/sample - loss: 2192.4463 - mean_squared_error: 2192.4463 - val_loss: 3377.6599 - val_mean_squared_error: 3377.6602\n",
            "Epoch 16/50\n",
            "1359/1359 [==============================] - 1s 522us/sample - loss: 2152.6936 - mean_squared_error: 2152.6936 - val_loss: 3327.3922 - val_mean_squared_error: 3327.3921\n",
            "Epoch 17/50\n",
            "1359/1359 [==============================] - 1s 489us/sample - loss: 2114.2655 - mean_squared_error: 2114.2656 - val_loss: 3278.1060 - val_mean_squared_error: 3278.1060\n",
            "Epoch 18/50\n",
            "1359/1359 [==============================] - 1s 535us/sample - loss: 2076.4173 - mean_squared_error: 2076.4172 - val_loss: 3230.5581 - val_mean_squared_error: 3230.5581\n",
            "Epoch 19/50\n",
            "1359/1359 [==============================] - 1s 520us/sample - loss: 2039.5500 - mean_squared_error: 2039.5500 - val_loss: 3183.4231 - val_mean_squared_error: 3183.4231\n",
            "Epoch 20/50\n",
            "1359/1359 [==============================] - 1s 515us/sample - loss: 2003.4561 - mean_squared_error: 2003.4561 - val_loss: 3138.1708 - val_mean_squared_error: 3138.1707\n",
            "Epoch 21/50\n",
            "1359/1359 [==============================] - 1s 523us/sample - loss: 1969.4393 - mean_squared_error: 1969.4393 - val_loss: 3093.4190 - val_mean_squared_error: 3093.4189\n",
            "Epoch 22/50\n",
            "1359/1359 [==============================] - 1s 505us/sample - loss: 1934.8880 - mean_squared_error: 1934.8879 - val_loss: 3050.2316 - val_mean_squared_error: 3050.2317\n",
            "Epoch 23/50\n",
            "1359/1359 [==============================] - 1s 526us/sample - loss: 1902.0812 - mean_squared_error: 1902.0813 - val_loss: 3007.6716 - val_mean_squared_error: 3007.6714\n",
            "Epoch 24/50\n",
            "1359/1359 [==============================] - 1s 503us/sample - loss: 1869.7069 - mean_squared_error: 1869.7068 - val_loss: 2966.1502 - val_mean_squared_error: 2966.1501\n",
            "Epoch 25/50\n",
            "1359/1359 [==============================] - 1s 530us/sample - loss: 1838.3510 - mean_squared_error: 1838.3510 - val_loss: 2925.2541 - val_mean_squared_error: 2925.2542\n",
            "Epoch 26/50\n",
            "1359/1359 [==============================] - 1s 487us/sample - loss: 1807.4661 - mean_squared_error: 1807.4662 - val_loss: 2885.5261 - val_mean_squared_error: 2885.5259\n",
            "Epoch 27/50\n",
            "1359/1359 [==============================] - 1s 508us/sample - loss: 1777.4261 - mean_squared_error: 1777.4260 - val_loss: 2846.4232 - val_mean_squared_error: 2846.4233\n",
            "Epoch 28/50\n",
            "1359/1359 [==============================] - 1s 539us/sample - loss: 1748.3269 - mean_squared_error: 1748.3269 - val_loss: 2808.9878 - val_mean_squared_error: 2808.9878\n",
            "Epoch 29/50\n",
            "1359/1359 [==============================] - 1s 518us/sample - loss: 1720.4295 - mean_squared_error: 1720.4293 - val_loss: 2771.6009 - val_mean_squared_error: 2771.6008\n",
            "Epoch 30/50\n",
            "1359/1359 [==============================] - 1s 526us/sample - loss: 1692.2383 - mean_squared_error: 1692.2383 - val_loss: 2734.8278 - val_mean_squared_error: 2734.8276\n",
            "Epoch 31/50\n",
            "1359/1359 [==============================] - 1s 533us/sample - loss: 1664.3899 - mean_squared_error: 1664.3900 - val_loss: 2698.5517 - val_mean_squared_error: 2698.5518\n",
            "Epoch 32/50\n",
            "1359/1359 [==============================] - 1s 538us/sample - loss: 1638.0618 - mean_squared_error: 1638.0618 - val_loss: 2663.9286 - val_mean_squared_error: 2663.9287\n",
            "Epoch 33/50\n",
            "1359/1359 [==============================] - 1s 545us/sample - loss: 1611.7814 - mean_squared_error: 1611.7812 - val_loss: 2628.4623 - val_mean_squared_error: 2628.4624\n",
            "Epoch 34/50\n",
            "1359/1359 [==============================] - 1s 484us/sample - loss: 1586.2319 - mean_squared_error: 1586.2319 - val_loss: 2595.1945 - val_mean_squared_error: 2595.1946\n",
            "Epoch 35/50\n",
            "1359/1359 [==============================] - 1s 559us/sample - loss: 1560.7365 - mean_squared_error: 1560.7366 - val_loss: 2562.3626 - val_mean_squared_error: 2562.3625\n",
            "Epoch 36/50\n",
            "1359/1359 [==============================] - 1s 497us/sample - loss: 1537.0165 - mean_squared_error: 1537.0166 - val_loss: 2529.4285 - val_mean_squared_error: 2529.4285\n",
            "Epoch 37/50\n",
            "1359/1359 [==============================] - 1s 537us/sample - loss: 1512.8263 - mean_squared_error: 1512.8264 - val_loss: 2497.7596 - val_mean_squared_error: 2497.7595\n",
            "Epoch 38/50\n",
            "1359/1359 [==============================] - 1s 522us/sample - loss: 1489.9495 - mean_squared_error: 1489.9495 - val_loss: 2466.2419 - val_mean_squared_error: 2466.2417\n",
            "Epoch 39/50\n",
            "1359/1359 [==============================] - 1s 541us/sample - loss: 1468.0429 - mean_squared_error: 1468.0428 - val_loss: 2436.3302 - val_mean_squared_error: 2436.3303\n",
            "Epoch 40/50\n",
            "1359/1359 [==============================] - 1s 524us/sample - loss: 1446.0096 - mean_squared_error: 1446.0095 - val_loss: 2405.3846 - val_mean_squared_error: 2405.3845\n",
            "Epoch 41/50\n",
            "1359/1359 [==============================] - 1s 497us/sample - loss: 1424.3901 - mean_squared_error: 1424.3901 - val_loss: 2379.3184 - val_mean_squared_error: 2379.3184\n",
            "Epoch 42/50\n",
            "1359/1359 [==============================] - 1s 522us/sample - loss: 1403.6824 - mean_squared_error: 1403.6825 - val_loss: 2348.5646 - val_mean_squared_error: 2348.5645\n",
            "Epoch 43/50\n",
            "1359/1359 [==============================] - 1s 518us/sample - loss: 1381.7696 - mean_squared_error: 1381.7697 - val_loss: 2320.9703 - val_mean_squared_error: 2320.9705\n",
            "Epoch 44/50\n",
            "1359/1359 [==============================] - 1s 475us/sample - loss: 1361.4473 - mean_squared_error: 1361.4474 - val_loss: 2292.5008 - val_mean_squared_error: 2292.5010\n",
            "Epoch 45/50\n",
            "1359/1359 [==============================] - 1s 560us/sample - loss: 1341.8679 - mean_squared_error: 1341.8679 - val_loss: 2265.5982 - val_mean_squared_error: 2265.5981\n",
            "Epoch 46/50\n",
            "1359/1359 [==============================] - 1s 533us/sample - loss: 1321.6788 - mean_squared_error: 1321.6787 - val_loss: 2241.8883 - val_mean_squared_error: 2241.8884\n",
            "Epoch 47/50\n",
            "1359/1359 [==============================] - 1s 529us/sample - loss: 1304.7599 - mean_squared_error: 1304.7599 - val_loss: 2212.7150 - val_mean_squared_error: 2212.7151\n",
            "Epoch 48/50\n",
            "1359/1359 [==============================] - 1s 539us/sample - loss: 1285.4223 - mean_squared_error: 1285.4222 - val_loss: 2187.8685 - val_mean_squared_error: 2187.8682\n",
            "Epoch 49/50\n",
            "1359/1359 [==============================] - 1s 535us/sample - loss: 1266.4731 - mean_squared_error: 1266.4731 - val_loss: 2163.1575 - val_mean_squared_error: 2163.1575\n",
            "Epoch 50/50\n",
            "1359/1359 [==============================] - 1s 514us/sample - loss: 1249.5416 - mean_squared_error: 1249.5416 - val_loss: 2137.2039 - val_mean_squared_error: 2137.2039\n"
          ],
          "name": "stdout"
        }
      ]
    },
    {
      "cell_type": "code",
      "metadata": {
        "id": "xLHoGKNKctaa",
        "colab_type": "code",
        "outputId": "e460e2c9-f48b-490a-dd2a-a05e585c58c8",
        "colab": {
          "base_uri": "https://localhost:8080/",
          "height": 34
        }
      },
      "source": [
        "history_Simple.history.keys()"
      ],
      "execution_count": 0,
      "outputs": [
        {
          "output_type": "execute_result",
          "data": {
            "text/plain": [
              "dict_keys(['loss', 'mean_squared_error', 'val_loss', 'val_mean_squared_error'])"
            ]
          },
          "metadata": {
            "tags": []
          },
          "execution_count": 28
        }
      ]
    },
    {
      "cell_type": "code",
      "metadata": {
        "id": "CWjQlKqCm48V",
        "colab_type": "code",
        "outputId": "48ce6ab0-5227-40f8-95ca-2d49f72f5ef9",
        "colab": {
          "base_uri": "https://localhost:8080/",
          "height": 282
        }
      },
      "source": [
        "import matplotlib.pyplot as plt\n",
        "plt.plot(history_Simple.history['mean_squared_error'], 'r')\n",
        "plt.plot(history_Simple.history['val_mean_squared_error'], 'b')\n",
        "plt.legend(['train MSE', 'valid MSE'])"
      ],
      "execution_count": 0,
      "outputs": [
        {
          "output_type": "execute_result",
          "data": {
            "text/plain": [
              "<matplotlib.legend.Legend at 0x7fb624a26be0>"
            ]
          },
          "metadata": {
            "tags": []
          },
          "execution_count": 29
        },
        {
          "output_type": "display_data",
          "data": {
            "image/png": "[encoded data removed]",
            "text/plain": [
              "<Figure size 432x288 with 1 Axes>"
            ]
          },
          "metadata": {
            "tags": []
          }
        }
      ]
    },
    {
      "cell_type": "code",
      "metadata": {
        "id": "ZwK7aDi9nabO",
        "colab_type": "code",
        "outputId": "1083156b-f900-48d1-dcc4-6dd3e479af89",
        "colab": {
          "base_uri": "https://localhost:8080/",
          "height": 323
        }
      },
      "source": [
        "inputs = Input(shape=(input_sequence_length,1))\n",
        "hidden = LSTM(100, input_shape=(input_sequence_length,), return_sequences=True)(inputs)\n",
        "hidden = LSTM(100, input_shape=(input_sequence_length,100), return_sequences=True)(hidden)\n",
        "hidden = LSTM(100, input_shape=(input_sequence_length,100))(hidden)\n",
        "outputs = Dense(1)(hidden)\n",
        "func_model = keras.Model(inputs=inputs, outputs=outputs, name='LSTM_model')\n",
        "func_model.compile(loss=keras.losses.mean_squared_error, \n",
        "                   optimizer=keras.optimizers.Adam(), \n",
        "                   metrics=[keras.metrics.mean_squared_error])\n",
        "func_model.summary()\n",
        "\n"
      ],
      "execution_count": 0,
      "outputs": [
        {
          "output_type": "stream",
          "text": [
            "Model: \"LSTM_model\"\n",
            "_________________________________________________________________\n",
            "Layer (type)                 Output Shape              Param #   \n",
            "=================================================================\n",
            "input_5 (InputLayer)         [(None, 50, 1)]           0         \n",
            "_________________________________________________________________\n",
            "lstm_3 (LSTM)                (None, 50, 100)           40800     \n",
            "_________________________________________________________________\n",
            "lstm_4 (LSTM)                (None, 50, 100)           80400     \n",
            "_________________________________________________________________\n",
            "lstm_5 (LSTM)                (None, 100)               80400     \n",
            "_________________________________________________________________\n",
            "dense_4 (Dense)              (None, 1)                 101       \n",
            "=================================================================\n",
            "Total params: 201,701\n",
            "Trainable params: 201,701\n",
            "Non-trainable params: 0\n",
            "_________________________________________________________________\n"
          ],
          "name": "stdout"
        }
      ]
    },
    {
      "cell_type": "code",
      "metadata": {
        "id": "E3ULfhQQpufr",
        "colab_type": "code",
        "outputId": "a9e9c767-f5ae-49c5-9f56-8b22e523c95b",
        "colab": {
          "base_uri": "https://localhost:8080/",
          "height": 1000
        }
      },
      "source": [
        "history_LSTM = func_model.fit(X, y, batch_size=200, epochs=50, validation_data=[X_test, y_test])"
      ],
      "execution_count": 0,
      "outputs": [
        {
          "output_type": "stream",
          "text": [
            "Train on 1359 samples, validate on 1359 samples\n",
            "Epoch 1/50\n",
            "1359/1359 [==============================] - 4s 3ms/sample - loss: 3526.1045 - mean_squared_error: 3526.1045 - val_loss: 4716.3583 - val_mean_squared_error: 4716.3584\n",
            "Epoch 2/50\n",
            "1359/1359 [==============================] - 0s 118us/sample - loss: 3114.1062 - mean_squared_error: 3114.1060 - val_loss: 4354.3907 - val_mean_squared_error: 4354.3906\n",
            "Epoch 3/50\n",
            "1359/1359 [==============================] - 0s 121us/sample - loss: 2861.5536 - mean_squared_error: 2861.5537 - val_loss: 4107.3867 - val_mean_squared_error: 4107.3862\n",
            "Epoch 4/50\n",
            "1359/1359 [==============================] - 0s 113us/sample - loss: 2702.8167 - mean_squared_error: 2702.8169 - val_loss: 3967.8370 - val_mean_squared_error: 3967.8369\n",
            "Epoch 5/50\n",
            "1359/1359 [==============================] - 0s 114us/sample - loss: 2609.4506 - mean_squared_error: 2609.4507 - val_loss: 3877.7085 - val_mean_squared_error: 3877.7085\n",
            "Epoch 6/50\n",
            "1359/1359 [==============================] - 0s 111us/sample - loss: 2545.0592 - mean_squared_error: 2545.0591 - val_loss: 3807.3691 - val_mean_squared_error: 3807.3691\n",
            "Epoch 7/50\n",
            "1359/1359 [==============================] - 0s 116us/sample - loss: 2493.4010 - mean_squared_error: 2493.4011 - val_loss: 3744.1511 - val_mean_squared_error: 3744.1511\n",
            "Epoch 8/50\n",
            "1359/1359 [==============================] - 0s 111us/sample - loss: 2445.0274 - mean_squared_error: 2445.0273 - val_loss: 3685.6445 - val_mean_squared_error: 3685.6445\n",
            "Epoch 9/50\n",
            "1359/1359 [==============================] - 0s 108us/sample - loss: 2401.0889 - mean_squared_error: 2401.0891 - val_loss: 3629.9586 - val_mean_squared_error: 3629.9587\n",
            "Epoch 10/50\n",
            "1359/1359 [==============================] - 0s 109us/sample - loss: 2358.6814 - mean_squared_error: 2358.6814 - val_loss: 3577.3434 - val_mean_squared_error: 3577.3438\n",
            "Epoch 11/50\n",
            "1359/1359 [==============================] - 0s 110us/sample - loss: 2319.0844 - mean_squared_error: 2319.0847 - val_loss: 3526.7504 - val_mean_squared_error: 3526.7505\n",
            "Epoch 12/50\n",
            "1359/1359 [==============================] - 0s 112us/sample - loss: 2280.5466 - mean_squared_error: 2280.5466 - val_loss: 3478.4965 - val_mean_squared_error: 3478.4963\n",
            "Epoch 13/50\n",
            "1359/1359 [==============================] - 0s 106us/sample - loss: 2244.8316 - mean_squared_error: 2244.8318 - val_loss: 3431.6349 - val_mean_squared_error: 3431.6350\n",
            "Epoch 14/50\n",
            "1359/1359 [==============================] - 0s 113us/sample - loss: 2209.6161 - mean_squared_error: 2209.6162 - val_loss: 3386.8873 - val_mean_squared_error: 3386.8875\n",
            "Epoch 15/50\n",
            "1359/1359 [==============================] - 0s 112us/sample - loss: 2176.6865 - mean_squared_error: 2176.6865 - val_loss: 3343.2819 - val_mean_squared_error: 3343.2817\n",
            "Epoch 16/50\n",
            "1359/1359 [==============================] - 0s 109us/sample - loss: 2144.1726 - mean_squared_error: 2144.1729 - val_loss: 3301.5719 - val_mean_squared_error: 3301.5718\n",
            "Epoch 17/50\n",
            "1359/1359 [==============================] - 0s 107us/sample - loss: 2114.2936 - mean_squared_error: 2114.2937 - val_loss: 3260.5761 - val_mean_squared_error: 3260.5762\n",
            "Epoch 18/50\n",
            "1359/1359 [==============================] - 0s 111us/sample - loss: 2084.0759 - mean_squared_error: 2084.0759 - val_loss: 3221.7162 - val_mean_squared_error: 3221.7163\n",
            "Epoch 19/50\n",
            "1359/1359 [==============================] - 0s 106us/sample - loss: 2056.2462 - mean_squared_error: 2056.2461 - val_loss: 3183.9869 - val_mean_squared_error: 3183.9868\n",
            "Epoch 20/50\n",
            "1359/1359 [==============================] - 0s 111us/sample - loss: 2028.8815 - mean_squared_error: 2028.8815 - val_loss: 3147.9547 - val_mean_squared_error: 3147.9548\n",
            "Epoch 21/50\n",
            "1359/1359 [==============================] - 0s 119us/sample - loss: 2002.8660 - mean_squared_error: 2002.8661 - val_loss: 3113.2515 - val_mean_squared_error: 3113.2517\n",
            "Epoch 22/50\n",
            "1359/1359 [==============================] - 0s 110us/sample - loss: 1974.7780 - mean_squared_error: 1974.7778 - val_loss: 3076.5155 - val_mean_squared_error: 3076.5154\n",
            "Epoch 23/50\n",
            "1359/1359 [==============================] - 0s 111us/sample - loss: 1920.3676 - mean_squared_error: 1920.3676 - val_loss: 2985.3111 - val_mean_squared_error: 2985.3110\n",
            "Epoch 24/50\n",
            "1359/1359 [==============================] - 0s 111us/sample - loss: 1854.1124 - mean_squared_error: 1854.1125 - val_loss: 2932.5783 - val_mean_squared_error: 2932.5784\n",
            "Epoch 25/50\n",
            "1359/1359 [==============================] - 0s 109us/sample - loss: 1813.8342 - mean_squared_error: 1813.8342 - val_loss: 2887.4751 - val_mean_squared_error: 2887.4751\n",
            "Epoch 26/50\n",
            "1359/1359 [==============================] - 0s 104us/sample - loss: 1777.6167 - mean_squared_error: 1777.6166 - val_loss: 2841.1967 - val_mean_squared_error: 2841.1968\n",
            "Epoch 27/50\n",
            "1359/1359 [==============================] - 0s 108us/sample - loss: 1745.0578 - mean_squared_error: 1745.0577 - val_loss: 2796.8532 - val_mean_squared_error: 2796.8530\n",
            "Epoch 28/50\n",
            "1359/1359 [==============================] - 0s 115us/sample - loss: 1711.8472 - mean_squared_error: 1711.8472 - val_loss: 2755.5127 - val_mean_squared_error: 2755.5129\n",
            "Epoch 29/50\n",
            "1359/1359 [==============================] - 0s 110us/sample - loss: 1681.7926 - mean_squared_error: 1681.7925 - val_loss: 2715.4306 - val_mean_squared_error: 2715.4304\n",
            "Epoch 30/50\n",
            "1359/1359 [==============================] - 0s 109us/sample - loss: 1651.6082 - mean_squared_error: 1651.6084 - val_loss: 2676.2491 - val_mean_squared_error: 2676.2490\n",
            "Epoch 31/50\n",
            "1359/1359 [==============================] - 0s 107us/sample - loss: 1622.8446 - mean_squared_error: 1622.8446 - val_loss: 2638.2267 - val_mean_squared_error: 2638.2266\n",
            "Epoch 32/50\n",
            "1359/1359 [==============================] - 0s 106us/sample - loss: 1594.3329 - mean_squared_error: 1594.3330 - val_loss: 2601.0322 - val_mean_squared_error: 2601.0320\n",
            "Epoch 33/50\n",
            "1359/1359 [==============================] - 0s 109us/sample - loss: 1569.4691 - mean_squared_error: 1569.4691 - val_loss: 2564.4741 - val_mean_squared_error: 2564.4741\n",
            "Epoch 34/50\n",
            "1359/1359 [==============================] - 0s 120us/sample - loss: 1541.4231 - mean_squared_error: 1541.4231 - val_loss: 2528.2519 - val_mean_squared_error: 2528.2520\n",
            "Epoch 35/50\n",
            "1359/1359 [==============================] - 0s 115us/sample - loss: 1514.4522 - mean_squared_error: 1514.4521 - val_loss: 2495.2791 - val_mean_squared_error: 2495.2791\n",
            "Epoch 36/50\n",
            "1359/1359 [==============================] - 0s 111us/sample - loss: 1490.9455 - mean_squared_error: 1490.9456 - val_loss: 2459.8905 - val_mean_squared_error: 2459.8906\n",
            "Epoch 37/50\n",
            "1359/1359 [==============================] - 0s 121us/sample - loss: 1465.3777 - mean_squared_error: 1465.3778 - val_loss: 2428.1326 - val_mean_squared_error: 2428.1326\n",
            "Epoch 38/50\n",
            "1359/1359 [==============================] - 0s 113us/sample - loss: 1442.7320 - mean_squared_error: 1442.7319 - val_loss: 2394.5612 - val_mean_squared_error: 2394.5610\n",
            "Epoch 39/50\n",
            "1359/1359 [==============================] - 0s 110us/sample - loss: 1418.7565 - mean_squared_error: 1418.7565 - val_loss: 2363.2304 - val_mean_squared_error: 2363.2302\n",
            "Epoch 40/50\n",
            "1359/1359 [==============================] - 0s 108us/sample - loss: 1396.2428 - mean_squared_error: 1396.2428 - val_loss: 2332.4742 - val_mean_squared_error: 2332.4744\n",
            "Epoch 41/50\n",
            "1359/1359 [==============================] - 0s 112us/sample - loss: 1374.3875 - mean_squared_error: 1374.3876 - val_loss: 2302.6993 - val_mean_squared_error: 2302.6995\n",
            "Epoch 42/50\n",
            "1359/1359 [==============================] - 0s 111us/sample - loss: 1353.5946 - mean_squared_error: 1353.5946 - val_loss: 2274.9011 - val_mean_squared_error: 2274.9011\n",
            "Epoch 43/50\n",
            "1359/1359 [==============================] - 0s 109us/sample - loss: 1333.6428 - mean_squared_error: 1333.6427 - val_loss: 2245.0215 - val_mean_squared_error: 2245.0215\n",
            "Epoch 44/50\n",
            "1359/1359 [==============================] - 0s 108us/sample - loss: 1314.0812 - mean_squared_error: 1314.0812 - val_loss: 2216.5577 - val_mean_squared_error: 2216.5576\n",
            "Epoch 45/50\n",
            "1359/1359 [==============================] - 0s 112us/sample - loss: 1293.8422 - mean_squared_error: 1293.8424 - val_loss: 2188.0296 - val_mean_squared_error: 2188.0295\n",
            "Epoch 46/50\n",
            "1359/1359 [==============================] - 0s 108us/sample - loss: 1274.1153 - mean_squared_error: 1274.1152 - val_loss: 2161.8451 - val_mean_squared_error: 2161.8452\n",
            "Epoch 47/50\n",
            "1359/1359 [==============================] - 0s 109us/sample - loss: 1255.6229 - mean_squared_error: 1255.6229 - val_loss: 2136.2064 - val_mean_squared_error: 2136.2063\n",
            "Epoch 48/50\n",
            "1359/1359 [==============================] - 0s 114us/sample - loss: 1238.1290 - mean_squared_error: 1238.1289 - val_loss: 2110.5944 - val_mean_squared_error: 2110.5945\n",
            "Epoch 49/50\n",
            "1359/1359 [==============================] - 0s 109us/sample - loss: 1219.9868 - mean_squared_error: 1219.9868 - val_loss: 2084.5729 - val_mean_squared_error: 2084.5728\n",
            "Epoch 50/50\n",
            "1359/1359 [==============================] - 0s 112us/sample - loss: 1202.0137 - mean_squared_error: 1202.0137 - val_loss: 2060.5917 - val_mean_squared_error: 2060.5916\n"
          ],
          "name": "stdout"
        }
      ]
    },
    {
      "cell_type": "code",
      "metadata": {
        "id": "doIv7hd9Cero",
        "colab_type": "code",
        "outputId": "7dc75cdc-078a-4a10-ae26-5b3c4c68d2bc",
        "colab": {
          "base_uri": "https://localhost:8080/",
          "height": 282
        }
      },
      "source": [
        "import matplotlib.pyplot as plt\n",
        "plt.plot(history_LSTM.history['mean_squared_error'], 'r')\n",
        "plt.plot(history_LSTM.history['val_mean_squared_error'], 'b')\n",
        "plt.legend(['train MSE', 'valid MSE'])"
      ],
      "execution_count": 0,
      "outputs": [
        {
          "output_type": "execute_result",
          "data": {
            "text/plain": [
              "<matplotlib.legend.Legend at 0x7fb6503bf5c0>"
            ]
          },
          "metadata": {
            "tags": []
          },
          "execution_count": 32
        },
        {
          "output_type": "display_data",
          "data": {
            "image/png": "[encoded data removed]",
            "text/plain": [
              "<Figure size 432x288 with 1 Axes>"
            ]
          },
          "metadata": {
            "tags": []
          }
        }
      ]
    },
    {
      "cell_type": "code",
      "metadata": {
        "id": "N5_NzpKHCjuF",
        "colab_type": "code",
        "outputId": "f7fa33ed-578d-4e57-f7d7-3a9cb5bbf735",
        "colab": {
          "base_uri": "https://localhost:8080/",
          "height": 323
        }
      },
      "source": [
        "inputs = Input(shape=(input_sequence_length,1))\n",
        "hidden = GRU(100, input_shape=(input_sequence_length,), return_sequences=True)(inputs)\n",
        "hidden = GRU(100, input_shape=(input_sequence_length,100), return_sequences=True)(hidden)\n",
        "hidden = GRU(100, input_shape=(input_sequence_length,100))(hidden)\n",
        "outputs = Dense(1)(hidden)\n",
        "func_model = keras.Model(inputs=inputs, outputs=outputs, name='GRU_model')\n",
        "func_model.compile(loss=keras.losses.mean_squared_error, \n",
        "                   optimizer=keras.optimizers.Adam(), \n",
        "                   metrics=[keras.metrics.mean_squared_error])\n",
        "func_model.summary()\n",
        "\n"
      ],
      "execution_count": 0,
      "outputs": [
        {
          "output_type": "stream",
          "text": [
            "Model: \"GRU_model\"\n",
            "_________________________________________________________________\n",
            "Layer (type)                 Output Shape              Param #   \n",
            "=================================================================\n",
            "input_6 (InputLayer)         [(None, 50, 1)]           0         \n",
            "_________________________________________________________________\n",
            "gru_3 (GRU)                  (None, 50, 100)           30900     \n",
            "_________________________________________________________________\n",
            "gru_4 (GRU)                  (None, 50, 100)           60600     \n",
            "_________________________________________________________________\n",
            "gru_5 (GRU)                  (None, 100)               60600     \n",
            "_________________________________________________________________\n",
            "dense_5 (Dense)              (None, 1)                 101       \n",
            "=================================================================\n",
            "Total params: 152,201\n",
            "Trainable params: 152,201\n",
            "Non-trainable params: 0\n",
            "_________________________________________________________________\n"
          ],
          "name": "stdout"
        }
      ]
    },
    {
      "cell_type": "code",
      "metadata": {
        "id": "TYwMPTAHC6ZT",
        "colab_type": "code",
        "outputId": "531d9a44-c472-4bd3-8575-59679f2eddd0",
        "colab": {
          "base_uri": "https://localhost:8080/",
          "height": 1000
        }
      },
      "source": [
        "history_GRU = func_model.fit(X, y, batch_size=200, epochs=50, validation_data=[X_test, y_test])\n"
      ],
      "execution_count": 0,
      "outputs": [
        {
          "output_type": "stream",
          "text": [
            "Train on 1359 samples, validate on 1359 samples\n",
            "Epoch 1/50\n",
            "1359/1359 [==============================] - 3s 2ms/sample - loss: 3409.1019 - mean_squared_error: 3409.1023 - val_loss: 4457.4168 - val_mean_squared_error: 4457.4170\n",
            "Epoch 2/50\n",
            "1359/1359 [==============================] - 0s 112us/sample - loss: 2879.0624 - mean_squared_error: 2879.0625 - val_loss: 4079.4916 - val_mean_squared_error: 4079.4915\n",
            "Epoch 3/50\n",
            "1359/1359 [==============================] - 0s 106us/sample - loss: 2677.4173 - mean_squared_error: 2677.4172 - val_loss: 3946.6944 - val_mean_squared_error: 3946.6943\n",
            "Epoch 4/50\n",
            "1359/1359 [==============================] - 0s 104us/sample - loss: 2596.5700 - mean_squared_error: 2596.5698 - val_loss: 3872.7762 - val_mean_squared_error: 3872.7764\n",
            "Epoch 5/50\n",
            "1359/1359 [==============================] - 0s 101us/sample - loss: 2541.8581 - mean_squared_error: 2541.8582 - val_loss: 3808.9223 - val_mean_squared_error: 3808.9224\n",
            "Epoch 6/50\n",
            "1359/1359 [==============================] - 0s 102us/sample - loss: 2491.1462 - mean_squared_error: 2491.1462 - val_loss: 3748.3712 - val_mean_squared_error: 3748.3713\n",
            "Epoch 7/50\n",
            "1359/1359 [==============================] - 0s 111us/sample - loss: 2443.8117 - mean_squared_error: 2443.8115 - val_loss: 3689.1795 - val_mean_squared_error: 3689.1794\n",
            "Epoch 8/50\n",
            "1359/1359 [==============================] - 0s 103us/sample - loss: 2396.5770 - mean_squared_error: 2396.5769 - val_loss: 3627.8661 - val_mean_squared_error: 3627.8660\n",
            "Epoch 9/50\n",
            "1359/1359 [==============================] - 0s 104us/sample - loss: 2348.9604 - mean_squared_error: 2348.9602 - val_loss: 3566.2395 - val_mean_squared_error: 3566.2395\n",
            "Epoch 10/50\n",
            "1359/1359 [==============================] - 0s 103us/sample - loss: 2301.4926 - mean_squared_error: 2301.4927 - val_loss: 3505.6740 - val_mean_squared_error: 3505.6741\n",
            "Epoch 11/50\n",
            "1359/1359 [==============================] - 0s 99us/sample - loss: 2254.6470 - mean_squared_error: 2254.6467 - val_loss: 3451.1095 - val_mean_squared_error: 3451.1096\n",
            "Epoch 12/50\n",
            "1359/1359 [==============================] - 0s 102us/sample - loss: 2210.1984 - mean_squared_error: 2210.1985 - val_loss: 3396.6414 - val_mean_squared_error: 3396.6416\n",
            "Epoch 13/50\n",
            "1359/1359 [==============================] - 0s 104us/sample - loss: 2169.1174 - mean_squared_error: 2169.1174 - val_loss: 3343.6298 - val_mean_squared_error: 3343.6299\n",
            "Epoch 14/50\n",
            "1359/1359 [==============================] - 0s 103us/sample - loss: 2128.1292 - mean_squared_error: 2128.1292 - val_loss: 3292.7404 - val_mean_squared_error: 3292.7402\n",
            "Epoch 15/50\n",
            "1359/1359 [==============================] - 0s 107us/sample - loss: 2087.5712 - mean_squared_error: 2087.5713 - val_loss: 3242.4188 - val_mean_squared_error: 3242.4187\n",
            "Epoch 16/50\n",
            "1359/1359 [==============================] - 0s 109us/sample - loss: 2049.8451 - mean_squared_error: 2049.8452 - val_loss: 3193.6589 - val_mean_squared_error: 3193.6589\n",
            "Epoch 17/50\n",
            "1359/1359 [==============================] - 0s 101us/sample - loss: 2012.0469 - mean_squared_error: 2012.0468 - val_loss: 3146.3764 - val_mean_squared_error: 3146.3765\n",
            "Epoch 18/50\n",
            "1359/1359 [==============================] - 0s 105us/sample - loss: 1975.9931 - mean_squared_error: 1975.9930 - val_loss: 3100.1410 - val_mean_squared_error: 3100.1409\n",
            "Epoch 19/50\n",
            "1359/1359 [==============================] - 0s 101us/sample - loss: 1941.1705 - mean_squared_error: 1941.1705 - val_loss: 3054.7537 - val_mean_squared_error: 3054.7534\n",
            "Epoch 20/50\n",
            "1359/1359 [==============================] - 0s 104us/sample - loss: 1907.0344 - mean_squared_error: 1907.0345 - val_loss: 3011.6102 - val_mean_squared_error: 3011.6101\n",
            "Epoch 21/50\n",
            "1359/1359 [==============================] - 0s 103us/sample - loss: 1873.6887 - mean_squared_error: 1873.6887 - val_loss: 2968.8268 - val_mean_squared_error: 2968.8267\n",
            "Epoch 22/50\n",
            "1359/1359 [==============================] - 0s 106us/sample - loss: 1841.5239 - mean_squared_error: 1841.5240 - val_loss: 2926.8496 - val_mean_squared_error: 2926.8496\n",
            "Epoch 23/50\n",
            "1359/1359 [==============================] - 0s 101us/sample - loss: 1810.0867 - mean_squared_error: 1810.0867 - val_loss: 2883.5465 - val_mean_squared_error: 2883.5466\n",
            "Epoch 24/50\n",
            "1359/1359 [==============================] - 0s 106us/sample - loss: 1777.4579 - mean_squared_error: 1777.4576 - val_loss: 2842.9123 - val_mean_squared_error: 2842.9121\n",
            "Epoch 25/50\n",
            "1359/1359 [==============================] - 0s 108us/sample - loss: 1747.3775 - mean_squared_error: 1747.3777 - val_loss: 2803.5689 - val_mean_squared_error: 2803.5691\n",
            "Epoch 26/50\n",
            "1359/1359 [==============================] - 0s 104us/sample - loss: 1717.9534 - mean_squared_error: 1717.9535 - val_loss: 2764.4991 - val_mean_squared_error: 2764.4993\n",
            "Epoch 27/50\n",
            "1359/1359 [==============================] - 0s 103us/sample - loss: 1689.8372 - mean_squared_error: 1689.8372 - val_loss: 2731.2171 - val_mean_squared_error: 2731.2170\n",
            "Epoch 28/50\n",
            "1359/1359 [==============================] - 0s 104us/sample - loss: 1663.4111 - mean_squared_error: 1663.4111 - val_loss: 2690.8015 - val_mean_squared_error: 2690.8015\n",
            "Epoch 29/50\n",
            "1359/1359 [==============================] - 0s 106us/sample - loss: 1633.9978 - mean_squared_error: 1633.9979 - val_loss: 2653.3438 - val_mean_squared_error: 2653.3438\n",
            "Epoch 30/50\n",
            "1359/1359 [==============================] - 0s 105us/sample - loss: 1606.2410 - mean_squared_error: 1606.2410 - val_loss: 2618.3653 - val_mean_squared_error: 2618.3652\n",
            "Epoch 31/50\n",
            "1359/1359 [==============================] - 0s 104us/sample - loss: 1580.0916 - mean_squared_error: 1580.0916 - val_loss: 2583.0948 - val_mean_squared_error: 2583.0950\n",
            "Epoch 32/50\n",
            "1359/1359 [==============================] - 0s 104us/sample - loss: 1554.4231 - mean_squared_error: 1554.4231 - val_loss: 2549.1512 - val_mean_squared_error: 2549.1511\n",
            "Epoch 33/50\n",
            "1359/1359 [==============================] - 0s 100us/sample - loss: 1529.5571 - mean_squared_error: 1529.5570 - val_loss: 2515.9322 - val_mean_squared_error: 2515.9321\n",
            "Epoch 34/50\n",
            "1359/1359 [==============================] - 0s 107us/sample - loss: 1505.8990 - mean_squared_error: 1505.8990 - val_loss: 2481.7116 - val_mean_squared_error: 2481.7117\n",
            "Epoch 35/50\n",
            "1359/1359 [==============================] - 0s 101us/sample - loss: 1480.9803 - mean_squared_error: 1480.9805 - val_loss: 2450.1900 - val_mean_squared_error: 2450.1899\n",
            "Epoch 36/50\n",
            "1359/1359 [==============================] - 0s 109us/sample - loss: 1458.4222 - mean_squared_error: 1458.4222 - val_loss: 2418.8894 - val_mean_squared_error: 2418.8894\n",
            "Epoch 37/50\n",
            "1359/1359 [==============================] - 0s 105us/sample - loss: 1434.9058 - mean_squared_error: 1434.9058 - val_loss: 2387.1378 - val_mean_squared_error: 2387.1377\n",
            "Epoch 38/50\n",
            "1359/1359 [==============================] - 0s 99us/sample - loss: 1412.5899 - mean_squared_error: 1412.5900 - val_loss: 2357.6211 - val_mean_squared_error: 2357.6211\n",
            "Epoch 39/50\n",
            "1359/1359 [==============================] - 0s 102us/sample - loss: 1391.1798 - mean_squared_error: 1391.1799 - val_loss: 2327.6348 - val_mean_squared_error: 2327.6348\n",
            "Epoch 40/50\n",
            "1359/1359 [==============================] - 0s 102us/sample - loss: 1370.2384 - mean_squared_error: 1370.2383 - val_loss: 2298.8922 - val_mean_squared_error: 2298.8921\n",
            "Epoch 41/50\n",
            "1359/1359 [==============================] - 0s 104us/sample - loss: 1349.3881 - mean_squared_error: 1349.3883 - val_loss: 2270.1126 - val_mean_squared_error: 2270.1123\n",
            "Epoch 42/50\n",
            "1359/1359 [==============================] - 0s 103us/sample - loss: 1329.7089 - mean_squared_error: 1329.7089 - val_loss: 2242.6738 - val_mean_squared_error: 2242.6738\n",
            "Epoch 43/50\n",
            "1359/1359 [==============================] - 0s 108us/sample - loss: 1309.6837 - mean_squared_error: 1309.6836 - val_loss: 2215.2345 - val_mean_squared_error: 2215.2346\n",
            "Epoch 44/50\n",
            "1359/1359 [==============================] - 0s 104us/sample - loss: 1290.5741 - mean_squared_error: 1290.5741 - val_loss: 2188.6695 - val_mean_squared_error: 2188.6692\n",
            "Epoch 45/50\n",
            "1359/1359 [==============================] - 0s 98us/sample - loss: 1271.9296 - mean_squared_error: 1271.9296 - val_loss: 2162.5843 - val_mean_squared_error: 2162.5845\n",
            "Epoch 46/50\n",
            "1359/1359 [==============================] - 0s 100us/sample - loss: 1254.5038 - mean_squared_error: 1254.5039 - val_loss: 2136.5036 - val_mean_squared_error: 2136.5037\n",
            "Epoch 47/50\n",
            "1359/1359 [==============================] - 0s 103us/sample - loss: 1236.5597 - mean_squared_error: 1236.5597 - val_loss: 2112.9618 - val_mean_squared_error: 2112.9617\n",
            "Epoch 48/50\n",
            "1359/1359 [==============================] - 0s 104us/sample - loss: 1218.3965 - mean_squared_error: 1218.3966 - val_loss: 2087.7477 - val_mean_squared_error: 2087.7476\n",
            "Epoch 49/50\n",
            "1359/1359 [==============================] - 0s 102us/sample - loss: 1201.6898 - mean_squared_error: 1201.6898 - val_loss: 2064.9833 - val_mean_squared_error: 2064.9834\n",
            "Epoch 50/50\n",
            "1359/1359 [==============================] - 0s 105us/sample - loss: 1185.3084 - mean_squared_error: 1185.3083 - val_loss: 2042.2409 - val_mean_squared_error: 2042.2410\n"
          ],
          "name": "stdout"
        }
      ]
    },
    {
      "cell_type": "code",
      "metadata": {
        "id": "yA0jWrsHDSWl",
        "colab_type": "code",
        "outputId": "a39fa513-52da-4508-9679-44b3e779e5f1",
        "colab": {
          "base_uri": "https://localhost:8080/",
          "height": 282
        }
      },
      "source": [
        "plt.plot(history_GRU.history['mean_squared_error'], 'r')\n",
        "plt.plot(history_GRU.history['val_mean_squared_error'], 'b')\n",
        "plt.legend(['train MSE', 'valid MSE'])"
      ],
      "execution_count": 0,
      "outputs": [
        {
          "output_type": "execute_result",
          "data": {
            "text/plain": [
              "<matplotlib.legend.Legend at 0x7fb603264e48>"
            ]
          },
          "metadata": {
            "tags": []
          },
          "execution_count": 35
        },
        {
          "output_type": "display_data",
          "data": {
            "image/png": "[encoded data removed]",
            "text/plain": [
              "<Figure size 432x288 with 1 Axes>"
            ]
          },
          "metadata": {
            "tags": []
          }
        }
      ]
    },
    {
      "cell_type": "code",
      "metadata": {
        "id": "jVO_I7foDVCj",
        "colab_type": "code",
        "outputId": "fef0879f-0273-4fcd-f108-e8988b876f24",
        "colab": {
          "base_uri": "https://localhost:8080/",
          "height": 282
        }
      },
      "source": [
        "plt.plot(history_Simple.history['mean_squared_error'],'r' ,history_LSTM.history['mean_squared_error'], 'b', history_GRU.history['mean_squared_error'], 'y')\n",
        "plt.legend(['Simple Train. MSE', 'LSTM Train. MSE', 'GRU Train. MSE'])"
      ],
      "execution_count": 0,
      "outputs": [
        {
          "output_type": "execute_result",
          "data": {
            "text/plain": [
              "<matplotlib.legend.Legend at 0x7fb6031fc550>"
            ]
          },
          "metadata": {
            "tags": []
          },
          "execution_count": 36
        },
        {
          "output_type": "display_data",
          "data": {
            "image/png": "[encoded data removed]",
            "text/plain": [
              "<Figure size 432x288 with 1 Axes>"
            ]
          },
          "metadata": {
            "tags": []
          }
        }
      ]
    },
    {
      "cell_type": "code",
      "metadata": {
        "id": "JNZXKoRvKt1j",
        "colab_type": "code",
        "outputId": "f118b549-bb7c-4779-b903-e8ff9caa3e77",
        "colab": {
          "base_uri": "https://localhost:8080/",
          "height": 282
        }
      },
      "source": [
        "plt.plot(history_Simple.history['val_mean_squared_error'], 'r', history_LSTM.history['val_mean_squared_error'] , 'b', history_GRU.history['val_mean_squared_error'], 'y')\n",
        "plt.legend(['Simple Test. MSE', 'LSTM Test. MSE', 'GRU Test. MSE'])"
      ],
      "execution_count": 0,
      "outputs": [
        {
          "output_type": "execute_result",
          "data": {
            "text/plain": [
              "<matplotlib.legend.Legend at 0x7fb6031cfc50>"
            ]
          },
          "metadata": {
            "tags": []
          },
          "execution_count": 37
        },
        {
          "output_type": "display_data",
          "data": {
            "image/png": "[encoded data removed]",
            "text/plain": [
              "<Figure size 432x288 with 1 Axes>"
            ]
          },
          "metadata": {
            "tags": []
          }
        }
      ]
    },
    {
      "cell_type": "markdown",
      "metadata": {
        "id": "yJcrL_4aQamo",
        "colab_type": "text"
      },
      "source": [
        "It is clear that both LSTM and GRU models are faster than the Simple RNN, also they have better performance in terms of the mean square error.\n",
        "\n",
        "Now if we compare LSTM and GRU models, we can see that they are very close to each other here in my experiment. However, the GRU model is a bit faster and has less mean square error on testing data.\n",
        "Therefore, I can give them the following ranking:\n",
        "1- GRU \n",
        "2- LSTM\n",
        "3- Simple RNN"
      ]
    },
    {
      "cell_type": "code",
      "metadata": {
        "id": "8U8ZhoHlRKHh",
        "colab_type": "code",
        "colab": {}
      },
      "source": [
        ""
      ],
      "execution_count": 0,
      "outputs": []
    }
  ]
}