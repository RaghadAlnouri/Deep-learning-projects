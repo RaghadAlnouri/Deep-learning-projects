{
  "nbformat": 4,
  "nbformat_minor": 0,
  "metadata": {
    "colab": {
      "name": "R. Alnouri -  Fashion MNIST.ipynb",
      "provenance": [],
      "collapsed_sections": [],
      "include_colab_link": true
    },
    "kernelspec": {
      "name": "python3",
      "display_name": "Python 3"
    }
  },
  "cells": [
    {
      "cell_type": "markdown",
      "metadata": {
        "id": "view-in-github",
        "colab_type": "text"
      },
      "source": [
        "<a href=\"https://colab.research.google.com/github/RaghadAlnouri/Raghad/blob/master/R_Alnouri_Fashion_MNIST.ipynb\" target=\"_parent\"><img src=\"https://colab.research.google.com/assets/colab-badge.svg\" alt=\"Open In Colab\"/></a>"
      ]
    },
    {
      "cell_type": "markdown",
      "metadata": {
        "id": "0AeHH9cLNMbA",
        "colab_type": "text"
      },
      "source": [
        "### Homework\n",
        "Write the code outright - **Do not copy/paste from the example**\n",
        "#### Instructions\n",
        "1. Load the Fashion MNIST Dataset from the [keras documentation](https://keras.io/datasets/). **Use the Tensorflow version of Keras rather than the standalone Keras**\n",
        "2. Visualize the data\n",
        "3. Prepare the data - split, normalize and reshape\n",
        "4. Train a model using using keras' functional API\n",
        "5. Display the model training history in ```matplotlib```"
      ]
    },
    {
      "cell_type": "code",
      "metadata": {
        "id": "MCko_Vh6NCsk",
        "colab_type": "code",
        "outputId": "dc177710-3f8f-4fb6-dd75-811bb9f5e6b8",
        "colab": {
          "base_uri": "https://localhost:8080/",
          "height": 34
        }
      },
      "source": [
        "import tensorflow as tf\n",
        "tf.__version__\n"
      ],
      "execution_count": 0,
      "outputs": [
        {
          "output_type": "execute_result",
          "data": {
            "text/plain": [
              "'1.15.0'"
            ]
          },
          "metadata": {
            "tags": []
          },
          "execution_count": 45
        }
      ]
    },
    {
      "cell_type": "code",
      "metadata": {
        "id": "37Pcl7sFNE91",
        "colab_type": "code",
        "colab": {}
      },
      "source": [
        "fashion_mnist = tf.keras.datasets.fashion_mnist  # 60,000  of 28x28 grayscale images of 10 fashion categories\n",
        "(x_train, y_train), (x_test, y_test)= fashion_mnist.load_data()"
      ],
      "execution_count": 0,
      "outputs": []
    },
    {
      "cell_type": "code",
      "metadata": {
        "id": "LuutCzkuJXAv",
        "colab_type": "code",
        "outputId": "c59fefff-4cfe-41cc-dd8e-a98ffaa238c9",
        "colab": {
          "base_uri": "https://localhost:8080/",
          "height": 34
        }
      },
      "source": [
        "x_train.shape"
      ],
      "execution_count": 0,
      "outputs": [
        {
          "output_type": "execute_result",
          "data": {
            "text/plain": [
              "(60000, 28, 28)"
            ]
          },
          "metadata": {
            "tags": []
          },
          "execution_count": 47
        }
      ]
    },
    {
      "cell_type": "code",
      "metadata": {
        "id": "RdbbD7UkJldH",
        "colab_type": "code",
        "outputId": "262932bf-9ada-44fe-9564-c8913e610440",
        "colab": {
          "base_uri": "https://localhost:8080/",
          "height": 34
        }
      },
      "source": [
        "y_train.shape"
      ],
      "execution_count": 0,
      "outputs": [
        {
          "output_type": "execute_result",
          "data": {
            "text/plain": [
              "(60000,)"
            ]
          },
          "metadata": {
            "tags": []
          },
          "execution_count": 48
        }
      ]
    },
    {
      "cell_type": "code",
      "metadata": {
        "id": "LWnQ4Jz1Gt1h",
        "colab_type": "code",
        "outputId": "4e9b11a1-3be0-46eb-df4e-0c6a8e5d5c3c",
        "colab": {
          "base_uri": "https://localhost:8080/",
          "height": 282
        }
      },
      "source": [
        "import matplotlib.pyplot as plt\n",
        "plt.imshow(x_train[0], cmap=plt.cm.binary)\n",
        "plt.show"
      ],
      "execution_count": 0,
      "outputs": [
        {
          "output_type": "execute_result",
          "data": {
            "text/plain": [
              "<function matplotlib.pyplot.show>"
            ]
          },
          "metadata": {
            "tags": []
          },
          "execution_count": 49
        },
        {
          "output_type": "display_data",
          "data": {
            "image/png": "[encoded data removed]",
            "text/plain": [
              "<Figure size 432x288 with 1 Axes>"
            ]
          },
          "metadata": {
            "tags": []
          }
        }
      ]
    },
    {
      "cell_type": "code",
      "metadata": {
        "id": "8cMbw1zWLC7W",
        "colab_type": "code",
        "colab": {}
      },
      "source": [
        "x_train = x_train / 255\n",
        "x_test = x_test / 255\n"
      ],
      "execution_count": 0,
      "outputs": []
    },
    {
      "cell_type": "code",
      "metadata": {
        "id": "NYtEC-dVYXuO",
        "colab_type": "code",
        "outputId": "7f42c890-2136-4615-c7af-228dd3032c28",
        "colab": {
          "base_uri": "https://localhost:8080/",
          "height": 282
        }
      },
      "source": [
        "plt.imshow(x_train[0], cmap=plt.cm.binary)\n",
        "plt.show"
      ],
      "execution_count": 0,
      "outputs": [
        {
          "output_type": "execute_result",
          "data": {
            "text/plain": [
              "<function matplotlib.pyplot.show>"
            ]
          },
          "metadata": {
            "tags": []
          },
          "execution_count": 51
        },
        {
          "output_type": "display_data",
          "data": {
            "image/png": "[encoded data removed]",
            "text/plain": [
              "<Figure size 432x288 with 1 Axes>"
            ]
          },
          "metadata": {
            "tags": []
          }
        }
      ]
    },
    {
      "cell_type": "code",
      "metadata": {
        "id": "VQw06J5mIkvm",
        "colab_type": "code",
        "colab": {}
      },
      "source": [
        "import numpy as np\n",
        "idx = np.arange(len(x_train))\n",
        "np.random.seed(1)\n",
        "np.random.shuffle(idx)\n",
        "x_train = x_train[idx]\n",
        "y_train = y_train[idx]\n",
        "\n",
        "x_train, y_train, x_valid, y_valid = x_train[:-10000], y_train[:-10000], x_train[-10000:], y_train[-10000:]\n"
      ],
      "execution_count": 0,
      "outputs": []
    },
    {
      "cell_type": "code",
      "metadata": {
        "id": "hqI4u0gBUcI8",
        "colab_type": "code",
        "colab": {}
      },
      "source": [
        "from keras.utils import to_categorical\n",
        "y_train_cat = to_categorical(y_train)\n",
        "y_valid_cat = to_categorical(y_valid)\n",
        "y_test_cat = to_categorical(y_test)\n"
      ],
      "execution_count": 0,
      "outputs": []
    },
    {
      "cell_type": "code",
      "metadata": {
        "id": "nPdsLYVTKG54",
        "colab_type": "code",
        "outputId": "ddaa2a08-6169-42fe-c4de-a5316f1a106a",
        "colab": {
          "base_uri": "https://localhost:8080/",
          "height": 323
        }
      },
      "source": [
        "from tensorflow import keras\n",
        "from tensorflow.keras.layers import Flatten, Dense, Softmax\n",
        "\n",
        "\n",
        "inputs = keras.Input(shape=(28,28,))\n",
        "x = Flatten()(inputs)\n",
        "y = Dense(100, activation='relu')(x)\n",
        "y = Dense(100, activation='relu')(y)\n",
        "\n",
        "outputs = Dense(10, activation='softmax')(y)\n",
        "\n",
        "func_model = keras.Model(inputs, outputs)\n",
        "\n",
        "func_model.compile(loss=keras.losses.categorical_crossentropy, optimizer=keras.optimizers.Adam(1e-3), metrics=[keras.metrics.categorical_accuracy, keras.metrics.categorical_accuracy])\n",
        "\n",
        "func_model.summary()"
      ],
      "execution_count": 0,
      "outputs": [
        {
          "output_type": "stream",
          "text": [
            "Model: \"model_2\"\n",
            "_________________________________________________________________\n",
            "Layer (type)                 Output Shape              Param #   \n",
            "=================================================================\n",
            "input_3 (InputLayer)         [(None, 28, 28)]          0         \n",
            "_________________________________________________________________\n",
            "flatten_2 (Flatten)          (None, 784)               0         \n",
            "_________________________________________________________________\n",
            "dense_6 (Dense)              (None, 100)               78500     \n",
            "_________________________________________________________________\n",
            "dense_7 (Dense)              (None, 100)               10100     \n",
            "_________________________________________________________________\n",
            "dense_8 (Dense)              (None, 10)                1010      \n",
            "=================================================================\n",
            "Total params: 89,610\n",
            "Trainable params: 89,610\n",
            "Non-trainable params: 0\n",
            "_________________________________________________________________\n"
          ],
          "name": "stdout"
        }
      ]
    },
    {
      "cell_type": "code",
      "metadata": {
        "id": "o0N3UatWLGsU",
        "colab_type": "code",
        "outputId": "392be2c5-0976-49f0-ec67-9b886080b137",
        "colab": {
          "base_uri": "https://localhost:8080/",
          "height": 394
        }
      },
      "source": [
        "g = func_model.fit(x_train, y_train_cat, batch_size=100, epochs=10, validation_data=(x_valid, y_valid_cat))"
      ],
      "execution_count": 0,
      "outputs": [
        {
          "output_type": "stream",
          "text": [
            "Train on 50000 samples, validate on 10000 samples\n",
            "Epoch 1/10\n",
            "50000/50000 [==============================] - 2s 45us/sample - loss: 0.5511 - categorical_accuracy: 0.8082 - val_loss: 0.4500 - val_categorical_accuracy: 0.8385\n",
            "Epoch 2/10\n",
            "50000/50000 [==============================] - 2s 40us/sample - loss: 0.4002 - categorical_accuracy: 0.8556 - val_loss: 0.3699 - val_categorical_accuracy: 0.8704\n",
            "Epoch 3/10\n",
            "50000/50000 [==============================] - 2s 42us/sample - loss: 0.3578 - categorical_accuracy: 0.8699 - val_loss: 0.3717 - val_categorical_accuracy: 0.8701\n",
            "Epoch 4/10\n",
            "50000/50000 [==============================] - 2s 45us/sample - loss: 0.3297 - categorical_accuracy: 0.8789 - val_loss: 0.3532 - val_categorical_accuracy: 0.8723\n",
            "Epoch 5/10\n",
            "50000/50000 [==============================] - 2s 43us/sample - loss: 0.3122 - categorical_accuracy: 0.8846 - val_loss: 0.3453 - val_categorical_accuracy: 0.8783\n",
            "Epoch 6/10\n",
            "50000/50000 [==============================] - 2s 45us/sample - loss: 0.2941 - categorical_accuracy: 0.8914 - val_loss: 0.3259 - val_categorical_accuracy: 0.8841\n",
            "Epoch 7/10\n",
            "50000/50000 [==============================] - 2s 44us/sample - loss: 0.2833 - categorical_accuracy: 0.8950 - val_loss: 0.3286 - val_categorical_accuracy: 0.8852\n",
            "Epoch 8/10\n",
            "50000/50000 [==============================] - 2s 43us/sample - loss: 0.2703 - categorical_accuracy: 0.8985 - val_loss: 0.3344 - val_categorical_accuracy: 0.8832\n",
            "Epoch 9/10\n",
            "50000/50000 [==============================] - 2s 41us/sample - loss: 0.2628 - categorical_accuracy: 0.9012 - val_loss: 0.3278 - val_categorical_accuracy: 0.8819\n",
            "Epoch 10/10\n",
            "50000/50000 [==============================] - 2s 42us/sample - loss: 0.2503 - categorical_accuracy: 0.9064 - val_loss: 0.3238 - val_categorical_accuracy: 0.8831\n"
          ],
          "name": "stdout"
        }
      ]
    },
    {
      "cell_type": "code",
      "metadata": {
        "id": "hfdXz1asLm9T",
        "colab_type": "code",
        "outputId": "596f4a25-8e35-4344-df67-5335207879b9",
        "colab": {
          "base_uri": "https://localhost:8080/",
          "height": 324
        }
      },
      "source": [
        "import pandas as pd\n",
        "\n",
        "pd.DataFrame(g.history).plot(figsize=(8, 5), ls='-')\n",
        "plt.grid(True)\n",
        "plt.gca().set_ylim(0, 1)\n",
        "plt.show()  "
      ],
      "execution_count": 0,
      "outputs": [
        {
          "output_type": "display_data",
          "data": {
            "image/png": "[encoded data removed]",
            "text/plain": [
              "<Figure size 576x360 with 1 Axes>"
            ]
          },
          "metadata": {
            "tags": []
          }
        }
      ]
    },
    {
      "cell_type": "code",
      "metadata": {
        "id": "WGjFKPnMMmza",
        "colab_type": "code",
        "colab": {}
      },
      "source": [
        ""
      ],
      "execution_count": 0,
      "outputs": []
    }
  ]
}