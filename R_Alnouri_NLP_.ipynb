{
  "nbformat": 4,
  "nbformat_minor": 0,
  "metadata": {
    "colab": {
      "name": "R. Alnouri - NLP .ipynb",
      "provenance": [],
      "collapsed_sections": [],
      "include_colab_link": true
    },
    "kernelspec": {
      "name": "python3",
      "display_name": "Python 3"
    },
    "accelerator": "GPU"
  },
  "cells": [
    {
      "cell_type": "markdown",
      "metadata": {
        "id": "view-in-github",
        "colab_type": "text"
      },
      "source": [
        "<a href=\"https://colab.research.google.com/github/RaghadAlnouri/Raghad/blob/master/R_Alnouri_NLP_.ipynb\" target=\"_parent\"><img src=\"https://colab.research.google.com/assets/colab-badge.svg\" alt=\"Open In Colab\"/></a>"
      ]
    },
    {
      "cell_type": "markdown",
      "metadata": {
        "id": "1yz0AbWFaxbE",
        "colab_type": "text"
      },
      "source": [
        "# NLP part 1 homework\n",
        "\n",
        "We've introduced classic techniques to classify the different posts in the 20newsgroup dataset (Basics.ipynb notebook). The goal is to use one of the classification techniques using embeddings and see if you can outperform the random forest applied to word counts.\n",
        "\n",
        "Criteria:\n",
        "- Can you outperform the random forest on word counts?\n",
        "- Use one of the embedding-based methods to build features for documents, and train a classifier on top of it.\n",
        "- Describe what kind of mistakes your model makes on the test set. Look at errors in the test set classification. Can you come up with a reason why the model didn't get it? Do you have a hypothesis on how to fix this? Write a short paragraph/few bullet points about the errors that seem to occur and what you would try if you had to fix them.\n",
        "- Don't build vocabulary using the test set!!!\n",
        "\n",
        "Some tips:\n",
        "- Even if using embedding-based models, preprocessing can help.\n",
        "- Look at the data, can you see anything embeddings will have a hard time with?\n",
        "- How are you handling Out-of-Vocabulary words?"
      ]
    },
    {
      "cell_type": "markdown",
      "metadata": {
        "id": "MYzBSF9ErWVO",
        "colab_type": "text"
      },
      "source": [
        "## Loading data"
      ]
    },
    {
      "cell_type": "code",
      "metadata": {
        "id": "vhKdRbZiawvm",
        "colab_type": "code",
        "colab": {}
      },
      "source": [
        "import sklearn\n",
        "from sklearn.datasets import fetch_20newsgroups\n",
        "newsgroups_train = fetch_20newsgroups(subset='train')\n",
        "newsgroups_test = fetch_20newsgroups(subset='test')\n"
      ],
      "execution_count": 0,
      "outputs": []
    },
    {
      "cell_type": "code",
      "metadata": {
        "id": "JFgRR_A0de6A",
        "colab_type": "code",
        "colab": {}
      },
      "source": [
        "X_train, y_train = newsgroups_train['data'], newsgroups_train['target']\n",
        "X_test, y_test = newsgroups_test['data'], newsgroups_test['target']\n",
        "target_names = newsgroups_train['target_names']"
      ],
      "execution_count": 0,
      "outputs": []
    },
    {
      "cell_type": "markdown",
      "metadata": {
        "id": "b8QINsFIpU1Y",
        "colab_type": "text"
      },
      "source": [
        "## Explore the data"
      ]
    },
    {
      "cell_type": "code",
      "metadata": {
        "id": "kczJOFZAreVr",
        "colab_type": "code",
        "outputId": "4c7a8900-06de-4275-95b0-0469a8b75e22",
        "colab": {
          "base_uri": "https://localhost:8080/",
          "height": 88
        }
      },
      "source": [
        "print(\"number of classes:\", len(target_names))\n",
        "print(\"classes:\\n\", \", \".join(target_names))"
      ],
      "execution_count": 0,
      "outputs": [
        {
          "output_type": "stream",
          "text": [
            "number of classes: 20\n",
            "classes:\n",
            " alt.atheism, comp.graphics, comp.os.ms-windows.misc, comp.sys.ibm.pc.hardware, comp.sys.mac.hardware, comp.windows.x, misc.forsale, rec.autos, rec.motorcycles, rec.sport.baseball, rec.sport.hockey, sci.crypt, sci.electronics, sci.med, sci.space, soc.religion.christian, talk.politics.guns, talk.politics.mideast, talk.politics.misc, talk.religion.misc\n"
          ],
          "name": "stdout"
        }
      ]
    },
    {
      "cell_type": "code",
      "metadata": {
        "id": "QhUGVZ7qawyZ",
        "colab_type": "code",
        "outputId": "8ffaa8bc-31d6-4bd1-8928-20bb136f93a9",
        "colab": {
          "base_uri": "https://localhost:8080/",
          "height": 1000
        }
      },
      "source": [
        "import numpy as np\n",
        "\n",
        "# select random samples from data and print them\n",
        "indices = np.random.randint(0, len(X_train), 3)\n",
        "for i in indices:\n",
        "  print(\"class: \", target_names[y_train[i]])\n",
        "  print(\"example:\\n\", X_train[i])\n",
        "  print('*'*50)\n"
      ],
      "execution_count": 0,
      "outputs": [
        {
          "output_type": "stream",
          "text": [
            "class:  comp.windows.x\n",
            "example:\n",
            " From: hsteve@carina.unm.edu ()\n",
            "Subject: XTranslateCoord. Problem\n",
            "Organization: University of New Mexico, Albuquerque\n",
            "Lines: 13\n",
            "NNTP-Posting-Host: carina.unm.edu\n",
            "\n",
            "It seems like XTranslateCoord. doesn't work the way I expecting it.  Right\n",
            "after performs a XMoveWindow, I want to know the absolute window position\n",
            "with respect to the root window.  To get this info. I do a XTranslateCoordinates\n",
            "but the abs_x, and abs_y aren't right?  Does anybody know of a way to find \n",
            "out this information?\n",
            "\n",
            "Thanks, please e-mail to hsteve@carina.unm.edu if it's possible\n",
            "\n",
            "-- \n",
            "    _---_     Steve  \n",
            "   / o o \\    hsteve@hydra.unm.edu, hsteve@carina.unm.edu\n",
            "  | \\___/ |   \n",
            "              Just say NO to VMS!!\n",
            "\n",
            "**************************************************\n",
            "class:  comp.os.ms-windows.misc\n",
            "example:\n",
            " From: pmw0@ns1.cc.lehigh.edu (PHILLIP MICHAEL WILLIAMS)\n",
            "Subject: X Windows for windows\n",
            "Organization: Lehigh University\n",
            "Lines: 7\n",
            "\n",
            "Are there any X window servers that can run under MS-Windows??  I only know of\n",
            "Deskview but have not seen it in action.  Are there any others??\n",
            "\n",
            "Thanks in advance.\n",
            "\n",
            "Phil\n",
            "pmw0@Lehigh.edu\n",
            "\n",
            "**************************************************\n",
            "class:  rec.autos\n",
            "example:\n",
            " From: rjwade@rainbow.ecn.purdue.edu (Robert J. Wade)\n",
            "Subject: Re: Most bang for between $13,000 and $16,000\n",
            "Organization: Purdue University Engineering Computer Network\n",
            "Distribution: na\n",
            "Lines: 18\n",
            "\n",
            "In article <33759@oasys.dt.navy.mil> tobias@oasys.dt.navy.mil (Steve Tobias) writes:\n",
            ">In rec.autos, CPKJP@vm.cc.latech.edu (Kevin Parker) writes:\n",
            ">>   I'd like to get some feedback on a car with most bang for the buck in the\n",
            ">>$13000 to 16,000 price range. I'm looking for a car with enough civility to be\n",
            ">>driven every day, or even on long trips, but when I hit the gas, I want to feel\n",
            ">>some acceleration.  Handling is important also, as are reliability and pretty\n",
            ">>low maintenance costs.  A stylish appearance is nice, but I don't want a car\n",
            ">>that is all show and not much go.  Even though many of the imports are fast, I\n",
            ">>don't really want a turbo, and I never have cared for the song sung by a four\n",
            ">>clyinder.  I'd prefer a v6 or v8 for the engine.  If you have any suggestions,\n",
            ">>Kevin Parker\n",
            ">\n",
            ">     There's only one car that really fits your needs. It's spelled:\n",
            ">\n",
            ">\t\t\t  5.0 LITER MUSTANG\n",
            "\n",
            "\n",
            "not!  sorry, he said cvility, long trips, reliability, and low maintenance cost!\n",
            "\n",
            "**************************************************\n"
          ],
          "name": "stdout"
        }
      ]
    },
    {
      "cell_type": "markdown",
      "metadata": {
        "id": "TYpYP3FGhopI",
        "colab_type": "text"
      },
      "source": [
        "## load google word2vec\n",
        "\n"
      ]
    },
    {
      "cell_type": "code",
      "metadata": {
        "colab_type": "code",
        "outputId": "3878189e-b0bc-4306-ead6-5720f0422aeb",
        "id": "uleFGfvZsT4b",
        "colab": {
          "base_uri": "https://localhost:8080/",
          "height": 292
        }
      },
      "source": [
        "!wget -c \"https://s3.amazonaws.com/dl4j-distribution/GoogleNews-vectors-negative300.bin.gz\"\n",
        "!gunzip GoogleNews-vectors-negative300.bin.gz\n",
        "from gensim.models import KeyedVectors\n",
        "filename = 'GoogleNews-vectors-negative300.bin'\n",
        "word2vec = KeyedVectors.load_word2vec_format(filename, binary=True)"
      ],
      "execution_count": 0,
      "outputs": [
        {
          "output_type": "stream",
          "text": [
            "--2020-03-10 17:48:19--  https://s3.amazonaws.com/dl4j-distribution/GoogleNews-vectors-negative300.bin.gz\n",
            "Resolving s3.amazonaws.com (s3.amazonaws.com)... 52.216.178.221\n",
            "Connecting to s3.amazonaws.com (s3.amazonaws.com)|52.216.178.221|:443... connected.\n",
            "HTTP request sent, awaiting response... 200 OK\n",
            "Length: 1647046227 (1.5G) [application/x-gzip]\n",
            "Saving to: ‘GoogleNews-vectors-negative300.bin.gz’\n",
            "\n",
            "GoogleNews-vectors- 100%[===================>]   1.53G  48.6MB/s    in 33s     \n",
            "\n",
            "2020-03-10 17:48:52 (47.5 MB/s) - ‘GoogleNews-vectors-negative300.bin.gz’ saved [1647046227/1647046227]\n",
            "\n",
            "gzip: GoogleNews-vectors-negative300.bin already exists; do you wish to overwrite (y or n)? n\n",
            "\tnot overwritten\n"
          ],
          "name": "stdout"
        },
        {
          "output_type": "stream",
          "text": [
            "/usr/local/lib/python3.6/dist-packages/smart_open/smart_open_lib.py:402: UserWarning: This function is deprecated, use smart_open.open instead. See the migration notes for details: https://github.com/RaRe-Technologies/smart_open/blob/master/README.rst#migrating-to-the-new-open-function\n",
            "  'See the migration notes for details: %s' % _MIGRATION_NOTES_URL\n"
          ],
          "name": "stderr"
        }
      ]
    },
    {
      "cell_type": "markdown",
      "metadata": {
        "id": "6TippYrar28U",
        "colab_type": "text"
      },
      "source": [
        "## Data preprocessing"
      ]
    },
    {
      "cell_type": "code",
      "metadata": {
        "id": "7bhKz72IxDZb",
        "colab_type": "code",
        "outputId": "d23ac3b9-08c8-4ddb-9f4e-e0e7e94b1565",
        "colab": {
          "base_uri": "https://localhost:8080/",
          "height": 34
        }
      },
      "source": [
        "# install missing package\n",
        "!pip install unidecode\n"
      ],
      "execution_count": 0,
      "outputs": [
        {
          "output_type": "stream",
          "text": [
            "Requirement already satisfied: unidecode in /usr/local/lib/python3.6/dist-packages (1.1.1)\n"
          ],
          "name": "stdout"
        }
      ]
    },
    {
      "cell_type": "code",
      "metadata": {
        "id": "dzfTyJ4raw37",
        "colab_type": "code",
        "outputId": "5f8a08dd-94a5-4f5c-e9f7-6487fbe60fac",
        "colab": {
          "base_uri": "https://localhost:8080/",
          "height": 136
        }
      },
      "source": [
        "# imports\n",
        "import nltk\n",
        "nltk.download('punkt')\n",
        "from unidecode import unidecode\n",
        "from nltk.stem import WordNetLemmatizer, PorterStemmer\n",
        "nltk.download('wordnet')\n",
        "from nltk.corpus import stopwords as nltk_stopwords\n",
        "nltk.download('stopwords')\n"
      ],
      "execution_count": 0,
      "outputs": [
        {
          "output_type": "stream",
          "text": [
            "[nltk_data] Downloading package punkt to /root/nltk_data...\n",
            "[nltk_data]   Package punkt is already up-to-date!\n",
            "[nltk_data] Downloading package wordnet to /root/nltk_data...\n",
            "[nltk_data]   Package wordnet is already up-to-date!\n",
            "[nltk_data] Downloading package stopwords to /root/nltk_data...\n",
            "[nltk_data]   Package stopwords is already up-to-date!\n"
          ],
          "name": "stdout"
        },
        {
          "output_type": "execute_result",
          "data": {
            "text/plain": [
              "True"
            ]
          },
          "metadata": {
            "tags": []
          },
          "execution_count": 33
        }
      ]
    },
    {
      "cell_type": "code",
      "metadata": {
        "id": "65aiwJdruRYx",
        "colab_type": "code",
        "colab": {}
      },
      "source": [
        "# preprocessing functions\n",
        "\n",
        "def clean(s):\n",
        "  s = s.lower()\n",
        "  s = unidecode(s) # remove accents\n",
        "  lines = s.split('\\n')\n",
        "  lines = [x for x in lines if len(x) != 0]\n",
        "  lines = [x for x in lines\n",
        "           if not (x.startswith('from') or x.startswith('lines') or x.startswith('organization'))]\n",
        "  return '\\n'.join(lines)\n",
        "\n",
        "stopwords = set(nltk_stopwords.words('english'))\n",
        "stemmer = PorterStemmer()\n",
        "lemmatizer = WordNetLemmatizer()\n",
        "alphanum = set('qwertyuiopasdfghjklzxcvbnm1234567890')\n",
        "\n",
        "def tokenize(s):\n",
        "  tokens = nltk.tokenize.word_tokenize(s)\n",
        "  \n",
        "  # remove stopwords\n",
        "  tokens = [word for word in tokens if word not in stopwords]\n",
        "  \n",
        "  # stem or lemmatize words \"Didn't improve the performance\"\n",
        "  # tokens = [stemmer.stem(word) for word in tokens]\n",
        "  # tokens = [lemmatizer.lemmatize(word) for word in tokens]\n",
        "  \n",
        "  # remove non alpha-numeric tokens\n",
        "  tokens = [word for word in tokens\n",
        "            if all(char in alphanum for char in word)]\n",
        "\n",
        "  # tokens = [word for word in tokens\n",
        "  #           if not all(char not in alphanum for char in word)]\n",
        "  return tokens\n",
        "\n",
        "# takes some time...\n",
        "X_train_clean = [clean(x) for x in X_train]\n",
        "X_test_clean = [clean(x) for x in X_test]\n",
        "\n",
        "X_train_tok = [tokenize(x) for x in X_train_clean]\n",
        "X_test_tok = [tokenize(x) for x in X_test_clean]\n"
      ],
      "execution_count": 0,
      "outputs": []
    },
    {
      "cell_type": "code",
      "metadata": {
        "id": "XiLsQs0Z4Mk_",
        "colab_type": "code",
        "outputId": "db6b2802-de1d-40c5-e1c2-5e9ca460321b",
        "colab": {
          "base_uri": "https://localhost:8080/",
          "height": 717
        }
      },
      "source": [
        "# take a look at the data\n",
        "print(\"original:\\n\", X_train[0])\n",
        "print(\"*\" * 50)\n",
        "print(\"clean:\\n\", X_train_clean[0])\n",
        "print(\"*\" * 50)\n",
        "print(\"tokenized:\\n\", X_train_tok[0])"
      ],
      "execution_count": 0,
      "outputs": [
        {
          "output_type": "stream",
          "text": [
            "original:\n",
            " From: lerxst@wam.umd.edu (where's my thing)\n",
            "Subject: WHAT car is this!?\n",
            "Nntp-Posting-Host: rac3.wam.umd.edu\n",
            "Organization: University of Maryland, College Park\n",
            "Lines: 15\n",
            "\n",
            " I was wondering if anyone out there could enlighten me on this car I saw\n",
            "the other day. It was a 2-door sports car, looked to be from the late 60s/\n",
            "early 70s. It was called a Bricklin. The doors were really small. In addition,\n",
            "the front bumper was separate from the rest of the body. This is \n",
            "all I know. If anyone can tellme a model name, engine specs, years\n",
            "of production, where this car is made, history, or whatever info you\n",
            "have on this funky looking car, please e-mail.\n",
            "\n",
            "Thanks,\n",
            "- IL\n",
            "   ---- brought to you by your neighborhood Lerxst ----\n",
            "\n",
            "\n",
            "\n",
            "\n",
            "\n",
            "**************************************************\n",
            "clean:\n",
            " subject: what car is this!?\n",
            "nntp-posting-host: rac3.wam.umd.edu\n",
            " i was wondering if anyone out there could enlighten me on this car i saw\n",
            "the other day. it was a 2-door sports car, looked to be from the late 60s/\n",
            "early 70s. it was called a bricklin. the doors were really small. in addition,\n",
            "the front bumper was separate from the rest of the body. this is \n",
            "all i know. if anyone can tellme a model name, engine specs, years\n",
            "of production, where this car is made, history, or whatever info you\n",
            "have on this funky looking car, please e-mail.\n",
            "thanks,\n",
            "- il\n",
            "   ---- brought to you by your neighborhood lerxst ----\n",
            "**************************************************\n",
            "tokenized:\n",
            " ['subject', 'car', 'wondering', 'anyone', 'could', 'enlighten', 'car', 'saw', 'day', 'sports', 'car', 'looked', 'late', 'early', '70s', 'called', 'bricklin', 'doors', 'really', 'small', 'addition', 'front', 'bumper', 'separate', 'rest', 'body', 'know', 'anyone', 'tellme', 'model', 'name', 'engine', 'specs', 'years', 'production', 'car', 'made', 'history', 'whatever', 'info', 'funky', 'looking', 'car', 'please', 'thanks', 'il', 'brought', 'neighborhood', 'lerxst']\n"
          ],
          "name": "stdout"
        }
      ]
    },
    {
      "cell_type": "markdown",
      "metadata": {
        "id": "Kl_AOFvf5i53",
        "colab_type": "text"
      },
      "source": [
        "## Build vocabulary"
      ]
    },
    {
      "cell_type": "code",
      "metadata": {
        "id": "2EG6cdp75hx2",
        "colab_type": "code",
        "outputId": "c3ca4d0e-1dfe-42d5-85fb-425ca2e7bdd1",
        "colab": {
          "base_uri": "https://localhost:8080/",
          "height": 51
        }
      },
      "source": [
        "# list of all words\n",
        "all_words = [word for sent in X_train_tok for word in sent]\n",
        "\n",
        "# put them in a set\n",
        "all_words_set = set(all_words)\n",
        "print(\"# all words =\", len(all_words_set))\n",
        "\n",
        "# count words in all_words\n",
        "from collections import Counter\n",
        "word_counts = Counter(all_words)\n",
        "\n",
        "# choose only words with counts >= MIN_COUNT in the text. The list is sorted by word count\n",
        "MIN_COUNT = 20\n",
        "vocab_list = [word for word, count in word_counts.most_common() if count >= MIN_COUNT]\n",
        "\n",
        "# add OOV token to vocab_list, which will have index 0 \"Handelling out of vocabulary words\"\n",
        "vocab_list = ['OOV'] + vocab_list\n",
        "print(\"# words in vocabulary =\", len(vocab_list))\n",
        "\n",
        "# create a vocabulary and inverse-vocabulary\n",
        "from collections import OrderedDict\n",
        "vocab_ind = OrderedDict([(word,i) for i,word in enumerate(vocab_list)])\n",
        "ind_vocab = vocab_list"
      ],
      "execution_count": 0,
      "outputs": [
        {
          "output_type": "stream",
          "text": [
            "# all words = 90927\n",
            "# words in vocabulary = 9861\n"
          ],
          "name": "stdout"
        }
      ]
    },
    {
      "cell_type": "code",
      "metadata": {
        "id": "TmFRFUJM-F6j",
        "colab_type": "code",
        "outputId": "be67a584-1513-474b-a992-9fbf3b34c4fc",
        "colab": {
          "base_uri": "https://localhost:8080/",
          "height": 51
        }
      },
      "source": [
        "# look at first 10 words in our vocab\n",
        "print(list(vocab_ind.items())[:10])\n",
        "print(\", \".join([\"%d:%s\" % (i, word) for i, word in enumerate(ind_vocab[:10])]))\n"
      ],
      "execution_count": 0,
      "outputs": [
        {
          "output_type": "stream",
          "text": [
            "[('OOV', 0), ('subject', 1), ('would', 2), ('one', 3), ('writes', 4), ('article', 5), ('1', 6), ('x', 7), ('people', 8), ('like', 9)]\n",
            "0:OOV, 1:subject, 2:would, 3:one, 4:writes, 5:article, 6:1, 7:x, 8:people, 9:like\n"
          ],
          "name": "stdout"
        }
      ]
    },
    {
      "cell_type": "code",
      "metadata": {
        "id": "WlAkG1F2-_Ev",
        "colab_type": "code",
        "colab": {}
      },
      "source": [
        "# Convert train and test words to integers so we can use embeddings\n",
        "\n",
        "# def token_to_int(sent):\n",
        "#   # handle out-of-vocabulary words using OOV token (index 0 in the vocab).\n",
        "#   return [vocab_ind[word] if word in vocab_ind else 0 for word in sent]\n",
        "\n",
        "# def int_to_token(sent):\n",
        "#   return [ind_vocab[i] for i in sent]\n",
        "\n",
        "# X_train_ind = [token_to_int(sent) for sent in X_train_tok]\n",
        "# X_test_ind = [token_to_int(sent) for sent in X_test_tok]\n",
        "\n",
        "# # look at first example\n",
        "# print(X_train_ind[0])\n",
        "# print(X_test_ind[0])"
      ],
      "execution_count": 0,
      "outputs": []
    },
    {
      "cell_type": "markdown",
      "metadata": {
        "id": "8s6arg6QBw05",
        "colab_type": "text"
      },
      "source": [
        "## Construct features for data using average word2vec embeddings"
      ]
    },
    {
      "cell_type": "code",
      "metadata": {
        "id": "e98jYPsoBvvX",
        "colab_type": "code",
        "outputId": "3e937d07-886b-459c-e322-4c78f0185995",
        "colab": {
          "base_uri": "https://localhost:8080/",
          "height": 51
        }
      },
      "source": [
        "import numpy as np\n",
        "\n",
        "def token_to_feat(sent):\n",
        "  # note that we will ignore OOV words from the mean features\n",
        "  feature_array = np.array([word2vec[word] for word in sent if word in word2vec])\n",
        "  return feature_array.mean(axis=0)\n",
        "\n",
        "  X_train_feat = np.array([token_to_feat(sent) for sent in X_train_tok])\n",
        "  X_test_feat = np.array([token_to_feat(sent) for sent in X_test_tok])\n",
        "\n",
        "# take a look at data\n",
        "#print(len(X_train_feat))\n",
        "#print(len(X_test_feat))\n",
        "print(X_train_feat.shape)\n",
        "print(X_test_feat.shape)"
      ],
      "execution_count": 0,
      "outputs": [
        {
          "output_type": "stream",
          "text": [
            "(11314, 300)\n",
            "(7532, 300)\n"
          ],
          "name": "stdout"
        }
      ]
    },
    {
      "cell_type": "markdown",
      "metadata": {
        "id": "nobz-xjoGFWJ",
        "colab_type": "text"
      },
      "source": [
        "## Train a classifier on top of word2vec features"
      ]
    },
    {
      "cell_type": "code",
      "metadata": {
        "id": "HGg6i3cjF7X4",
        "colab_type": "code",
        "outputId": "03f1f2cb-d715-4921-ad59-cf45c6cd3f7f",
        "colab": {
          "base_uri": "https://localhost:8080/",
          "height": 357
        }
      },
      "source": [
        "import tensorflow as tf\n",
        "from tensorflow import keras\n",
        "from tensorflow.keras.layers import Dense, Dropout\n",
        "\n",
        "inputs = keras.Input(shape=(300,))\n",
        "h1 = Dense(units=256, activation='relu')(inputs)\n",
        "h2 = Dropout(0.5)(h1)\n",
        "h3 = Dense(units=256, activation='relu')(h2)\n",
        "h4 = Dropout(0.5)(h3)\n",
        "outputs = Dense(units=20, activation='softmax')(h4)\n",
        "\n",
        "learning_rate = 0.001\n",
        "\n",
        "func_model = keras.Model(inputs, outputs)\n",
        "func_model.compile(loss=keras.losses.sparse_categorical_crossentropy,\n",
        "                   optimizer=keras.optimizers.Adam(learning_rate),\n",
        "                   metrics=[keras.metrics.sparse_categorical_accuracy])\n",
        "func_model.summary()\n"
      ],
      "execution_count": 0,
      "outputs": [
        {
          "output_type": "stream",
          "text": [
            "Model: \"model_1\"\n",
            "_________________________________________________________________\n",
            "Layer (type)                 Output Shape              Param #   \n",
            "=================================================================\n",
            "input_2 (InputLayer)         [(None, 300)]             0         \n",
            "_________________________________________________________________\n",
            "dense_3 (Dense)              (None, 256)               77056     \n",
            "_________________________________________________________________\n",
            "dropout_2 (Dropout)          (None, 256)               0         \n",
            "_________________________________________________________________\n",
            "dense_4 (Dense)              (None, 256)               65792     \n",
            "_________________________________________________________________\n",
            "dropout_3 (Dropout)          (None, 256)               0         \n",
            "_________________________________________________________________\n",
            "dense_5 (Dense)              (None, 20)                5140      \n",
            "=================================================================\n",
            "Total params: 147,988\n",
            "Trainable params: 147,988\n",
            "Non-trainable params: 0\n",
            "_________________________________________________________________\n"
          ],
          "name": "stdout"
        }
      ]
    },
    {
      "cell_type": "code",
      "metadata": {
        "id": "2HJH_2LRGbtw",
        "colab_type": "code",
        "outputId": "24b94475-1710-4cc1-f09b-1cec3c3a7dd8",
        "colab": {
          "base_uri": "https://localhost:8080/",
          "height": 1000
        }
      },
      "source": [
        "history = func_model.fit(X_train_feat, y_train, validation_data=(X_test_feat, y_test), batch_size=32, shuffle=True, epochs=100)"
      ],
      "execution_count": 0,
      "outputs": [
        {
          "output_type": "stream",
          "text": [
            "Train on 11314 samples, validate on 7532 samples\n",
            "Epoch 1/100\n",
            "11314/11314 [==============================] - 1s 116us/sample - loss: 2.1068 - sparse_categorical_accuracy: 0.3056 - val_loss: 1.4138 - val_sparse_categorical_accuracy: 0.5252\n",
            "Epoch 2/100\n",
            "11314/11314 [==============================] - 1s 110us/sample - loss: 1.3277 - sparse_categorical_accuracy: 0.5354 - val_loss: 1.1668 - val_sparse_categorical_accuracy: 0.6257\n",
            "Epoch 3/100\n",
            "11314/11314 [==============================] - 1s 105us/sample - loss: 1.1213 - sparse_categorical_accuracy: 0.6197 - val_loss: 1.0590 - val_sparse_categorical_accuracy: 0.6597\n",
            "Epoch 4/100\n",
            "11314/11314 [==============================] - 1s 107us/sample - loss: 1.0077 - sparse_categorical_accuracy: 0.6584 - val_loss: 1.0078 - val_sparse_categorical_accuracy: 0.6743\n",
            "Epoch 5/100\n",
            "11314/11314 [==============================] - 1s 105us/sample - loss: 0.9352 - sparse_categorical_accuracy: 0.6876 - val_loss: 0.9907 - val_sparse_categorical_accuracy: 0.6815\n",
            "Epoch 6/100\n",
            "11314/11314 [==============================] - 1s 105us/sample - loss: 0.8842 - sparse_categorical_accuracy: 0.7023 - val_loss: 0.9585 - val_sparse_categorical_accuracy: 0.7042\n",
            "Epoch 7/100\n",
            "11314/11314 [==============================] - 1s 108us/sample - loss: 0.8372 - sparse_categorical_accuracy: 0.7201 - val_loss: 0.9619 - val_sparse_categorical_accuracy: 0.7023\n",
            "Epoch 8/100\n",
            "11314/11314 [==============================] - 1s 105us/sample - loss: 0.7977 - sparse_categorical_accuracy: 0.7318 - val_loss: 0.9421 - val_sparse_categorical_accuracy: 0.7095\n",
            "Epoch 9/100\n",
            "11314/11314 [==============================] - 1s 106us/sample - loss: 0.7671 - sparse_categorical_accuracy: 0.7417 - val_loss: 0.9401 - val_sparse_categorical_accuracy: 0.7111\n",
            "Epoch 10/100\n",
            "11314/11314 [==============================] - 1s 109us/sample - loss: 0.7417 - sparse_categorical_accuracy: 0.7515 - val_loss: 0.9386 - val_sparse_categorical_accuracy: 0.7122\n",
            "Epoch 11/100\n",
            "11314/11314 [==============================] - 1s 102us/sample - loss: 0.7106 - sparse_categorical_accuracy: 0.7656 - val_loss: 0.9388 - val_sparse_categorical_accuracy: 0.7149\n",
            "Epoch 12/100\n",
            "11314/11314 [==============================] - 1s 103us/sample - loss: 0.6874 - sparse_categorical_accuracy: 0.7691 - val_loss: 0.9261 - val_sparse_categorical_accuracy: 0.7183\n",
            "Epoch 13/100\n",
            "11314/11314 [==============================] - 1s 106us/sample - loss: 0.6712 - sparse_categorical_accuracy: 0.7736 - val_loss: 0.9349 - val_sparse_categorical_accuracy: 0.7205\n",
            "Epoch 14/100\n",
            "11314/11314 [==============================] - 1s 108us/sample - loss: 0.6513 - sparse_categorical_accuracy: 0.7840 - val_loss: 0.9244 - val_sparse_categorical_accuracy: 0.7207\n",
            "Epoch 15/100\n",
            "11314/11314 [==============================] - 1s 102us/sample - loss: 0.6230 - sparse_categorical_accuracy: 0.7923 - val_loss: 0.9401 - val_sparse_categorical_accuracy: 0.7181\n",
            "Epoch 16/100\n",
            "11314/11314 [==============================] - 1s 107us/sample - loss: 0.6231 - sparse_categorical_accuracy: 0.7901 - val_loss: 0.9288 - val_sparse_categorical_accuracy: 0.7211\n",
            "Epoch 17/100\n",
            "11314/11314 [==============================] - 1s 104us/sample - loss: 0.5876 - sparse_categorical_accuracy: 0.8040 - val_loss: 0.9445 - val_sparse_categorical_accuracy: 0.7160\n",
            "Epoch 18/100\n",
            "11314/11314 [==============================] - 1s 107us/sample - loss: 0.5883 - sparse_categorical_accuracy: 0.7991 - val_loss: 0.9420 - val_sparse_categorical_accuracy: 0.7192\n",
            "Epoch 19/100\n",
            "11314/11314 [==============================] - 1s 107us/sample - loss: 0.5709 - sparse_categorical_accuracy: 0.8116 - val_loss: 0.9685 - val_sparse_categorical_accuracy: 0.7193\n",
            "Epoch 20/100\n",
            "11314/11314 [==============================] - 1s 101us/sample - loss: 0.5532 - sparse_categorical_accuracy: 0.8123 - val_loss: 0.9326 - val_sparse_categorical_accuracy: 0.7228\n",
            "Epoch 21/100\n",
            "11314/11314 [==============================] - 1s 107us/sample - loss: 0.5375 - sparse_categorical_accuracy: 0.8206 - val_loss: 0.9838 - val_sparse_categorical_accuracy: 0.7191\n",
            "Epoch 22/100\n",
            "11314/11314 [==============================] - 1s 105us/sample - loss: 0.5339 - sparse_categorical_accuracy: 0.8220 - val_loss: 0.9457 - val_sparse_categorical_accuracy: 0.7264\n",
            "Epoch 23/100\n",
            "11314/11314 [==============================] - 1s 106us/sample - loss: 0.5168 - sparse_categorical_accuracy: 0.8288 - val_loss: 0.9652 - val_sparse_categorical_accuracy: 0.7266\n",
            "Epoch 24/100\n",
            "11314/11314 [==============================] - 1s 104us/sample - loss: 0.5099 - sparse_categorical_accuracy: 0.8284 - val_loss: 0.9746 - val_sparse_categorical_accuracy: 0.7248\n",
            "Epoch 25/100\n",
            "11314/11314 [==============================] - 1s 102us/sample - loss: 0.4974 - sparse_categorical_accuracy: 0.8278 - val_loss: 0.9641 - val_sparse_categorical_accuracy: 0.7282\n",
            "Epoch 26/100\n",
            "11314/11314 [==============================] - 1s 103us/sample - loss: 0.4835 - sparse_categorical_accuracy: 0.8379 - val_loss: 0.9657 - val_sparse_categorical_accuracy: 0.7277\n",
            "Epoch 27/100\n",
            "11314/11314 [==============================] - 1s 105us/sample - loss: 0.4657 - sparse_categorical_accuracy: 0.8411 - val_loss: 0.9949 - val_sparse_categorical_accuracy: 0.7256\n",
            "Epoch 28/100\n",
            "11314/11314 [==============================] - 1s 106us/sample - loss: 0.4605 - sparse_categorical_accuracy: 0.8423 - val_loss: 0.9729 - val_sparse_categorical_accuracy: 0.7314\n",
            "Epoch 29/100\n",
            "11314/11314 [==============================] - 1s 104us/sample - loss: 0.4484 - sparse_categorical_accuracy: 0.8467 - val_loss: 1.0018 - val_sparse_categorical_accuracy: 0.7245\n",
            "Epoch 30/100\n",
            "11314/11314 [==============================] - 1s 104us/sample - loss: 0.4430 - sparse_categorical_accuracy: 0.8476 - val_loss: 1.0019 - val_sparse_categorical_accuracy: 0.7269\n",
            "Epoch 31/100\n",
            "11314/11314 [==============================] - 1s 105us/sample - loss: 0.4427 - sparse_categorical_accuracy: 0.8510 - val_loss: 1.0043 - val_sparse_categorical_accuracy: 0.7224\n",
            "Epoch 32/100\n",
            "11314/11314 [==============================] - 1s 106us/sample - loss: 0.4305 - sparse_categorical_accuracy: 0.8513 - val_loss: 1.0065 - val_sparse_categorical_accuracy: 0.7297\n",
            "Epoch 33/100\n",
            "11314/11314 [==============================] - 1s 106us/sample - loss: 0.4232 - sparse_categorical_accuracy: 0.8552 - val_loss: 1.0303 - val_sparse_categorical_accuracy: 0.7221\n",
            "Epoch 34/100\n",
            "11314/11314 [==============================] - 1s 112us/sample - loss: 0.4142 - sparse_categorical_accuracy: 0.8586 - val_loss: 1.0129 - val_sparse_categorical_accuracy: 0.7258\n",
            "Epoch 35/100\n",
            "11314/11314 [==============================] - 1s 106us/sample - loss: 0.3977 - sparse_categorical_accuracy: 0.8656 - val_loss: 1.0314 - val_sparse_categorical_accuracy: 0.7266\n",
            "Epoch 36/100\n",
            "11314/11314 [==============================] - 1s 111us/sample - loss: 0.4038 - sparse_categorical_accuracy: 0.8598 - val_loss: 1.0359 - val_sparse_categorical_accuracy: 0.7256\n",
            "Epoch 37/100\n",
            "11314/11314 [==============================] - 1s 108us/sample - loss: 0.3969 - sparse_categorical_accuracy: 0.8657 - val_loss: 1.0354 - val_sparse_categorical_accuracy: 0.7296\n",
            "Epoch 38/100\n",
            "11314/11314 [==============================] - 1s 107us/sample - loss: 0.3810 - sparse_categorical_accuracy: 0.8696 - val_loss: 1.0427 - val_sparse_categorical_accuracy: 0.7284\n",
            "Epoch 39/100\n",
            "11314/11314 [==============================] - 1s 104us/sample - loss: 0.3751 - sparse_categorical_accuracy: 0.8741 - val_loss: 1.0432 - val_sparse_categorical_accuracy: 0.7262\n",
            "Epoch 40/100\n",
            "11314/11314 [==============================] - 1s 105us/sample - loss: 0.3719 - sparse_categorical_accuracy: 0.8731 - val_loss: 1.0724 - val_sparse_categorical_accuracy: 0.7323\n",
            "Epoch 41/100\n",
            "11314/11314 [==============================] - 1s 104us/sample - loss: 0.3623 - sparse_categorical_accuracy: 0.8733 - val_loss: 1.0779 - val_sparse_categorical_accuracy: 0.7215\n",
            "Epoch 42/100\n",
            "11314/11314 [==============================] - 1s 104us/sample - loss: 0.3556 - sparse_categorical_accuracy: 0.8756 - val_loss: 1.0777 - val_sparse_categorical_accuracy: 0.7238\n",
            "Epoch 43/100\n",
            "11314/11314 [==============================] - 1s 107us/sample - loss: 0.3505 - sparse_categorical_accuracy: 0.8798 - val_loss: 1.0662 - val_sparse_categorical_accuracy: 0.7281\n",
            "Epoch 44/100\n",
            "11314/11314 [==============================] - 1s 110us/sample - loss: 0.3427 - sparse_categorical_accuracy: 0.8836 - val_loss: 1.0840 - val_sparse_categorical_accuracy: 0.7261\n",
            "Epoch 45/100\n",
            "11314/11314 [==============================] - 1s 104us/sample - loss: 0.3436 - sparse_categorical_accuracy: 0.8816 - val_loss: 1.0945 - val_sparse_categorical_accuracy: 0.7252\n",
            "Epoch 46/100\n",
            "11314/11314 [==============================] - 1s 108us/sample - loss: 0.3369 - sparse_categorical_accuracy: 0.8851 - val_loss: 1.1061 - val_sparse_categorical_accuracy: 0.7253\n",
            "Epoch 47/100\n",
            "11314/11314 [==============================] - 1s 107us/sample - loss: 0.3313 - sparse_categorical_accuracy: 0.8851 - val_loss: 1.0967 - val_sparse_categorical_accuracy: 0.7230\n",
            "Epoch 48/100\n",
            "11314/11314 [==============================] - 1s 104us/sample - loss: 0.3305 - sparse_categorical_accuracy: 0.8847 - val_loss: 1.1078 - val_sparse_categorical_accuracy: 0.7272\n",
            "Epoch 49/100\n",
            "11314/11314 [==============================] - 1s 104us/sample - loss: 0.3157 - sparse_categorical_accuracy: 0.8937 - val_loss: 1.1458 - val_sparse_categorical_accuracy: 0.7229\n",
            "Epoch 50/100\n",
            "11314/11314 [==============================] - 1s 106us/sample - loss: 0.3179 - sparse_categorical_accuracy: 0.8885 - val_loss: 1.1195 - val_sparse_categorical_accuracy: 0.7197\n",
            "Epoch 51/100\n",
            "11314/11314 [==============================] - 1s 107us/sample - loss: 0.3201 - sparse_categorical_accuracy: 0.8867 - val_loss: 1.1322 - val_sparse_categorical_accuracy: 0.7244\n",
            "Epoch 52/100\n",
            "11314/11314 [==============================] - 1s 104us/sample - loss: 0.3097 - sparse_categorical_accuracy: 0.8931 - val_loss: 1.1544 - val_sparse_categorical_accuracy: 0.7276\n",
            "Epoch 53/100\n",
            "11314/11314 [==============================] - 1s 105us/sample - loss: 0.2978 - sparse_categorical_accuracy: 0.8932 - val_loss: 1.1576 - val_sparse_categorical_accuracy: 0.7232\n",
            "Epoch 54/100\n",
            "11314/11314 [==============================] - 1s 102us/sample - loss: 0.3109 - sparse_categorical_accuracy: 0.8875 - val_loss: 1.1804 - val_sparse_categorical_accuracy: 0.7227\n",
            "Epoch 55/100\n",
            "11314/11314 [==============================] - 1s 104us/sample - loss: 0.2834 - sparse_categorical_accuracy: 0.9018 - val_loss: 1.1803 - val_sparse_categorical_accuracy: 0.7264\n",
            "Epoch 56/100\n",
            "11314/11314 [==============================] - 1s 103us/sample - loss: 0.2980 - sparse_categorical_accuracy: 0.8999 - val_loss: 1.1657 - val_sparse_categorical_accuracy: 0.7284\n",
            "Epoch 57/100\n",
            "11314/11314 [==============================] - 1s 104us/sample - loss: 0.2945 - sparse_categorical_accuracy: 0.8994 - val_loss: 1.1812 - val_sparse_categorical_accuracy: 0.7252\n",
            "Epoch 58/100\n",
            "11314/11314 [==============================] - 1s 105us/sample - loss: 0.2930 - sparse_categorical_accuracy: 0.8987 - val_loss: 1.1705 - val_sparse_categorical_accuracy: 0.7266\n",
            "Epoch 59/100\n",
            "11314/11314 [==============================] - 1s 104us/sample - loss: 0.2813 - sparse_categorical_accuracy: 0.9033 - val_loss: 1.1723 - val_sparse_categorical_accuracy: 0.7300\n",
            "Epoch 60/100\n",
            "11314/11314 [==============================] - 1s 105us/sample - loss: 0.2958 - sparse_categorical_accuracy: 0.8976 - val_loss: 1.1659 - val_sparse_categorical_accuracy: 0.7280\n",
            "Epoch 61/100\n",
            "11314/11314 [==============================] - 1s 107us/sample - loss: 0.2801 - sparse_categorical_accuracy: 0.9045 - val_loss: 1.1879 - val_sparse_categorical_accuracy: 0.7246\n",
            "Epoch 62/100\n",
            "11314/11314 [==============================] - 1s 104us/sample - loss: 0.2777 - sparse_categorical_accuracy: 0.9038 - val_loss: 1.1956 - val_sparse_categorical_accuracy: 0.7220\n",
            "Epoch 63/100\n",
            "11314/11314 [==============================] - 1s 106us/sample - loss: 0.2761 - sparse_categorical_accuracy: 0.9055 - val_loss: 1.2224 - val_sparse_categorical_accuracy: 0.7254\n",
            "Epoch 64/100\n",
            "11314/11314 [==============================] - 1s 105us/sample - loss: 0.2609 - sparse_categorical_accuracy: 0.9104 - val_loss: 1.2209 - val_sparse_categorical_accuracy: 0.7300\n",
            "Epoch 65/100\n",
            "11314/11314 [==============================] - 1s 104us/sample - loss: 0.2653 - sparse_categorical_accuracy: 0.9065 - val_loss: 1.2504 - val_sparse_categorical_accuracy: 0.7260\n",
            "Epoch 66/100\n",
            "11314/11314 [==============================] - 1s 104us/sample - loss: 0.2506 - sparse_categorical_accuracy: 0.9121 - val_loss: 1.2351 - val_sparse_categorical_accuracy: 0.7262\n",
            "Epoch 67/100\n",
            "11314/11314 [==============================] - 1s 105us/sample - loss: 0.2741 - sparse_categorical_accuracy: 0.9045 - val_loss: 1.2194 - val_sparse_categorical_accuracy: 0.7256\n",
            "Epoch 68/100\n",
            "11314/11314 [==============================] - 1s 104us/sample - loss: 0.2602 - sparse_categorical_accuracy: 0.9091 - val_loss: 1.2568 - val_sparse_categorical_accuracy: 0.7219\n",
            "Epoch 69/100\n",
            "11314/11314 [==============================] - 1s 108us/sample - loss: 0.2584 - sparse_categorical_accuracy: 0.9093 - val_loss: 1.2331 - val_sparse_categorical_accuracy: 0.7224\n",
            "Epoch 70/100\n",
            "11314/11314 [==============================] - 1s 109us/sample - loss: 0.2563 - sparse_categorical_accuracy: 0.9108 - val_loss: 1.2376 - val_sparse_categorical_accuracy: 0.7266\n",
            "Epoch 71/100\n",
            "11314/11314 [==============================] - 1s 106us/sample - loss: 0.2487 - sparse_categorical_accuracy: 0.9130 - val_loss: 1.2635 - val_sparse_categorical_accuracy: 0.7228\n",
            "Epoch 72/100\n",
            "11314/11314 [==============================] - 1s 104us/sample - loss: 0.2488 - sparse_categorical_accuracy: 0.9159 - val_loss: 1.2402 - val_sparse_categorical_accuracy: 0.7260\n",
            "Epoch 73/100\n",
            "11314/11314 [==============================] - 1s 105us/sample - loss: 0.2538 - sparse_categorical_accuracy: 0.9122 - val_loss: 1.2462 - val_sparse_categorical_accuracy: 0.7242\n",
            "Epoch 74/100\n",
            "11314/11314 [==============================] - 1s 107us/sample - loss: 0.2499 - sparse_categorical_accuracy: 0.9128 - val_loss: 1.2682 - val_sparse_categorical_accuracy: 0.7257\n",
            "Epoch 75/100\n",
            "11314/11314 [==============================] - 1s 106us/sample - loss: 0.2478 - sparse_categorical_accuracy: 0.9142 - val_loss: 1.2327 - val_sparse_categorical_accuracy: 0.7249\n",
            "Epoch 76/100\n",
            "11314/11314 [==============================] - 1s 105us/sample - loss: 0.2424 - sparse_categorical_accuracy: 0.9181 - val_loss: 1.2561 - val_sparse_categorical_accuracy: 0.7244\n",
            "Epoch 77/100\n",
            "11314/11314 [==============================] - 1s 107us/sample - loss: 0.2317 - sparse_categorical_accuracy: 0.9197 - val_loss: 1.2984 - val_sparse_categorical_accuracy: 0.7302\n",
            "Epoch 78/100\n",
            "11314/11314 [==============================] - 1s 103us/sample - loss: 0.2311 - sparse_categorical_accuracy: 0.9196 - val_loss: 1.2755 - val_sparse_categorical_accuracy: 0.7256\n",
            "Epoch 79/100\n",
            "11314/11314 [==============================] - 1s 104us/sample - loss: 0.2388 - sparse_categorical_accuracy: 0.9168 - val_loss: 1.3203 - val_sparse_categorical_accuracy: 0.7236\n",
            "Epoch 80/100\n",
            "11314/11314 [==============================] - 1s 105us/sample - loss: 0.2372 - sparse_categorical_accuracy: 0.9141 - val_loss: 1.3329 - val_sparse_categorical_accuracy: 0.7237\n",
            "Epoch 81/100\n",
            "11314/11314 [==============================] - 1s 106us/sample - loss: 0.2263 - sparse_categorical_accuracy: 0.9218 - val_loss: 1.3179 - val_sparse_categorical_accuracy: 0.7265\n",
            "Epoch 82/100\n",
            "11314/11314 [==============================] - 1s 106us/sample - loss: 0.2354 - sparse_categorical_accuracy: 0.9200 - val_loss: 1.2861 - val_sparse_categorical_accuracy: 0.7305\n",
            "Epoch 83/100\n",
            "11314/11314 [==============================] - 1s 105us/sample - loss: 0.2333 - sparse_categorical_accuracy: 0.9168 - val_loss: 1.3126 - val_sparse_categorical_accuracy: 0.7278\n",
            "Epoch 84/100\n",
            "11314/11314 [==============================] - 1s 108us/sample - loss: 0.2238 - sparse_categorical_accuracy: 0.9244 - val_loss: 1.3015 - val_sparse_categorical_accuracy: 0.7285\n",
            "Epoch 85/100\n",
            "11314/11314 [==============================] - 1s 105us/sample - loss: 0.2319 - sparse_categorical_accuracy: 0.9210 - val_loss: 1.2990 - val_sparse_categorical_accuracy: 0.7270\n",
            "Epoch 86/100\n",
            "11314/11314 [==============================] - 1s 105us/sample - loss: 0.2019 - sparse_categorical_accuracy: 0.9319 - val_loss: 1.3185 - val_sparse_categorical_accuracy: 0.7280\n",
            "Epoch 87/100\n",
            "11314/11314 [==============================] - 1s 107us/sample - loss: 0.2279 - sparse_categorical_accuracy: 0.9221 - val_loss: 1.3334 - val_sparse_categorical_accuracy: 0.7256\n",
            "Epoch 88/100\n",
            "11314/11314 [==============================] - 1s 108us/sample - loss: 0.2226 - sparse_categorical_accuracy: 0.9225 - val_loss: 1.3300 - val_sparse_categorical_accuracy: 0.7199\n",
            "Epoch 89/100\n",
            "11314/11314 [==============================] - 1s 105us/sample - loss: 0.2102 - sparse_categorical_accuracy: 0.9262 - val_loss: 1.3675 - val_sparse_categorical_accuracy: 0.7281\n",
            "Epoch 90/100\n",
            "11314/11314 [==============================] - 1s 104us/sample - loss: 0.2143 - sparse_categorical_accuracy: 0.9260 - val_loss: 1.3448 - val_sparse_categorical_accuracy: 0.7228\n",
            "Epoch 91/100\n",
            "11314/11314 [==============================] - 1s 109us/sample - loss: 0.2192 - sparse_categorical_accuracy: 0.9243 - val_loss: 1.3696 - val_sparse_categorical_accuracy: 0.7221\n",
            "Epoch 92/100\n",
            "11314/11314 [==============================] - 1s 106us/sample - loss: 0.2086 - sparse_categorical_accuracy: 0.9285 - val_loss: 1.4326 - val_sparse_categorical_accuracy: 0.7293\n",
            "Epoch 93/100\n",
            "11314/11314 [==============================] - 1s 103us/sample - loss: 0.2218 - sparse_categorical_accuracy: 0.9237 - val_loss: 1.3836 - val_sparse_categorical_accuracy: 0.7265\n",
            "Epoch 94/100\n",
            "11314/11314 [==============================] - 1s 104us/sample - loss: 0.2211 - sparse_categorical_accuracy: 0.9216 - val_loss: 1.3530 - val_sparse_categorical_accuracy: 0.7278\n",
            "Epoch 95/100\n",
            "11314/11314 [==============================] - 1s 104us/sample - loss: 0.2155 - sparse_categorical_accuracy: 0.9281 - val_loss: 1.3861 - val_sparse_categorical_accuracy: 0.7293\n",
            "Epoch 96/100\n",
            "11314/11314 [==============================] - 1s 106us/sample - loss: 0.2158 - sparse_categorical_accuracy: 0.9249 - val_loss: 1.3512 - val_sparse_categorical_accuracy: 0.7237\n",
            "Epoch 97/100\n",
            "11314/11314 [==============================] - 1s 104us/sample - loss: 0.2074 - sparse_categorical_accuracy: 0.9289 - val_loss: 1.3539 - val_sparse_categorical_accuracy: 0.7249\n",
            "Epoch 98/100\n",
            "11314/11314 [==============================] - 1s 102us/sample - loss: 0.2127 - sparse_categorical_accuracy: 0.9280 - val_loss: 1.3885 - val_sparse_categorical_accuracy: 0.7284\n",
            "Epoch 99/100\n",
            "11314/11314 [==============================] - 1s 108us/sample - loss: 0.1972 - sparse_categorical_accuracy: 0.9299 - val_loss: 1.3808 - val_sparse_categorical_accuracy: 0.7270\n",
            "Epoch 100/100\n",
            "11314/11314 [==============================] - 1s 106us/sample - loss: 0.2024 - sparse_categorical_accuracy: 0.9270 - val_loss: 1.3611 - val_sparse_categorical_accuracy: 0.7302\n"
          ],
          "name": "stdout"
        }
      ]
    },
    {
      "cell_type": "code",
      "metadata": {
        "id": "ktQwg2DWet7d",
        "colab_type": "code",
        "outputId": "02ae51b5-530a-4d3d-b4aa-4e9e9ac4984c",
        "colab": {
          "base_uri": "https://localhost:8080/",
          "height": 34
        }
      },
      "source": [
        "history.history.keys()"
      ],
      "execution_count": 0,
      "outputs": [
        {
          "output_type": "execute_result",
          "data": {
            "text/plain": [
              "dict_keys(['loss', 'sparse_categorical_accuracy', 'val_loss', 'val_sparse_categorical_accuracy'])"
            ]
          },
          "metadata": {
            "tags": []
          },
          "execution_count": 42
        }
      ]
    },
    {
      "cell_type": "code",
      "metadata": {
        "id": "zh9vqJ-Wd7rN",
        "colab_type": "code",
        "outputId": "dc68dec5-f3fc-4e71-b8e5-551437adc13b",
        "colab": {
          "base_uri": "https://localhost:8080/",
          "height": 282
        }
      },
      "source": [
        "import matplotlib.pyplot as plt\n",
        "plt.plot(history.history['sparse_categorical_accuracy'], 'r')\n",
        "plt.plot(history.history['val_sparse_categorical_accuracy'], 'b')\n",
        "plt.legend(['Training accuracy', 'validation accuracy '])"
      ],
      "execution_count": 0,
      "outputs": [
        {
          "output_type": "execute_result",
          "data": {
            "text/plain": [
              "<matplotlib.legend.Legend at 0x7ff73c8b5d68>"
            ]
          },
          "metadata": {
            "tags": []
          },
          "execution_count": 43
        },
        {
          "output_type": "display_data",
          "data": {
            "image/png": "[encoded data removed]",
            "text/plain": [
              "<Figure size 432x288 with 1 Axes>"
            ]
          },
          "metadata": {
            "tags": []
          }
        }
      ]
    }
  ]
}