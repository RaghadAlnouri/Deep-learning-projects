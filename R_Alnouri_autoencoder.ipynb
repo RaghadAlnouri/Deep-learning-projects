{
  "nbformat": 4,
  "nbformat_minor": 0,
  "metadata": {
    "colab": {
      "name": "R. Alnouri - autoencoder.ipynb",
      "provenance": [],
      "collapsed_sections": [],
      "include_colab_link": true
    },
    "kernelspec": {
      "name": "python3",
      "display_name": "Python 3"
    },
    "accelerator": "GPU"
  },
  "cells": [
    {
      "cell_type": "markdown",
      "metadata": {
        "id": "view-in-github",
        "colab_type": "text"
      },
      "source": [
        "<a href=\"https://colab.research.google.com/github/RaghadAlnouri/Raghad/blob/master/R_Alnouri_autoencoder.ipynb\" target=\"_parent\"><img src=\"https://colab.research.google.com/assets/colab-badge.svg\" alt=\"Open In Colab\"/></a>"
      ]
    },
    {
      "cell_type": "code",
      "metadata": {
        "id": "WEkPVn1UTjJx",
        "colab_type": "code",
        "colab": {}
      },
      "source": [
        "%tensorflow_version 1.x\n",
        "import tensorflow as tf\n",
        "from tensorflow import keras\n",
        "import numpy as np"
      ],
      "execution_count": 0,
      "outputs": []
    },
    {
      "cell_type": "markdown",
      "metadata": {
        "id": "jtwFm0rdA1I5",
        "colab_type": "text"
      },
      "source": [
        "# Train an autoencoder and use it to initialize a neural network\n",
        "\n",
        "Fill in the missing code (autoencoder).\n",
        "\n",
        "Train the autoencoder on the full unlabeled data.\n",
        "\n",
        "Initialize a neural network with the `encoder` of the autoencoder.\n",
        "\n",
        "Train the neural network on a reduced dataset."
      ]
    },
    {
      "cell_type": "markdown",
      "metadata": {
        "id": "Wpoky93tTm3Y",
        "colab_type": "text"
      },
      "source": [
        "Loading Fashion MNIST"
      ]
    },
    {
      "cell_type": "code",
      "metadata": {
        "id": "VpKAy8DTTl1t",
        "colab_type": "code",
        "colab": {}
      },
      "source": [
        "(X_train_full, y_train_full), (X_test, y_test) = tf.keras.datasets.fashion_mnist.load_data()\n",
        "X_train_full = X_train_full.astype(np.float32) / 255\n",
        "X_test = X_test.astype(np.float32) / 255\n",
        "X_train, X_valid = X_train_full[:-5000], X_train_full[-5000:]\n",
        "y_train, y_valid = y_train_full[:-5000], y_train_full[-5000:]\n",
        "\n",
        "X_train = X_train[..., np.newaxis]\n",
        "X_valid = X_valid[..., np.newaxis]\n",
        "X_test = X_test[..., np.newaxis]"
      ],
      "execution_count": 0,
      "outputs": []
    },
    {
      "cell_type": "code",
      "metadata": {
        "id": "Wbg5jqGmBIW0",
        "colab_type": "code",
        "outputId": "b31af0cc-746e-424f-ebae-0bae325074c5",
        "colab": {
          "base_uri": "https://localhost:8080/",
          "height": 34
        }
      },
      "source": [
        "X_test.min()"
      ],
      "execution_count": 0,
      "outputs": [
        {
          "output_type": "execute_result",
          "data": {
            "text/plain": [
              "0.0"
            ]
          },
          "metadata": {
            "tags": []
          },
          "execution_count": 9
        }
      ]
    },
    {
      "cell_type": "code",
      "metadata": {
        "id": "piiYO3LYDGXm",
        "colab_type": "code",
        "outputId": "f646ddca-6027-4690-8af7-94733c2326d2",
        "colab": {
          "base_uri": "https://localhost:8080/",
          "height": 34
        }
      },
      "source": [
        "X_train.shape"
      ],
      "execution_count": 0,
      "outputs": [
        {
          "output_type": "execute_result",
          "data": {
            "text/plain": [
              "(55000, 28, 28, 1)"
            ]
          },
          "metadata": {
            "tags": []
          },
          "execution_count": 10
        }
      ]
    },
    {
      "cell_type": "code",
      "metadata": {
        "id": "eXerqVPLTl4N",
        "colab_type": "code",
        "colab": {}
      },
      "source": [
        "def rounded_accuracy(y_true, y_pred):\n",
        "    return keras.metrics.binary_accuracy(tf.round(y_true), tf.round(y_pred))"
      ],
      "execution_count": 0,
      "outputs": []
    },
    {
      "cell_type": "markdown",
      "metadata": {
        "id": "1kKYY1rKTwez",
        "colab_type": "text"
      },
      "source": [
        "Train an auto-encoder on the full training data\n",
        "\n",
        "Task: Replace the `...` with the appropriate code"
      ]
    },
    {
      "cell_type": "code",
      "metadata": {
        "id": "soIwrYMiTl6z",
        "colab_type": "code",
        "outputId": "7eeb1323-71f7-44d5-87d5-7484bdedf4cf",
        "colab": {
          "base_uri": "https://localhost:8080/",
          "height": 802
        }
      },
      "source": [
        "np.random.seed(42)\n",
        "conv_encoder = keras.models.Sequential([\n",
        "    keras.layers.Conv2D(32, kernel_size=3, padding=\"SAME\", activation=\"relu\", input_shape=[28, 28, 1]),\n",
        "    keras.layers.MaxPool2D(pool_size=2),\n",
        "    keras.layers.Conv2D(64, kernel_size=3, padding=\"SAME\", activation=\"relu\"),\n",
        "    keras.layers.MaxPool2D(pool_size=2),\n",
        "    keras.layers.Conv2D(128, kernel_size=3, padding=\"SAME\", activation=\"relu\"),\n",
        "    \n",
        "])\n",
        "conv_decoder = keras.models.Sequential([\n",
        "    keras.layers.Conv2DTranspose(64, kernel_size=3, strides=2, padding=\"SAME\", activation=\"relu\",\n",
        "                                 input_shape=[7, 7, 128]),\n",
        "    keras.layers.Conv2DTranspose(32, kernel_size=3, strides=2, padding=\"SAME\", activation=\"relu\"),\n",
        "    keras.layers.Conv2DTranspose(1, kernel_size=3, strides=1, padding=\"SAME\", activation=\"sigmoid\"),\n",
        "])\n",
        "conv_ae = keras.models.Sequential([conv_encoder, conv_decoder])\n",
        "output = conv_ae.predict(X_valid[:10])\n",
        "print(output.shape)\n",
        "\n",
        "conv_ae.compile(loss=\"mse\", optimizer=keras.optimizers.SGD(lr=1.0), \n",
        "                metrics=[rounded_accuracy])\n",
        "\n",
        "history = conv_ae.fit(X_train, X_train, epochs=20, batch_size=128,\n",
        "                      validation_data=[X_valid, X_valid])"
      ],
      "execution_count": 0,
      "outputs": [
        {
          "output_type": "stream",
          "text": [
            "WARNING:tensorflow:From /tensorflow-1.15.2/python3.6/tensorflow_core/python/ops/resource_variable_ops.py:1630: calling BaseResourceVariable.__init__ (from tensorflow.python.ops.resource_variable_ops) with constraint is deprecated and will be removed in a future version.\n",
            "Instructions for updating:\n",
            "If using Keras pass *_constraint arguments to layers.\n",
            "(10, 28, 28, 1)\n",
            "Train on 55000 samples, validate on 5000 samples\n",
            "Epoch 1/20\n",
            "55000/55000 [==============================] - 5s 88us/sample - loss: 0.0450 - rounded_accuracy: 0.8632 - val_loss: 0.0239 - val_rounded_accuracy: 0.9088\n",
            "Epoch 2/20\n",
            "55000/55000 [==============================] - 4s 77us/sample - loss: 0.0198 - rounded_accuracy: 0.9206 - val_loss: 0.0168 - val_rounded_accuracy: 0.9268\n",
            "Epoch 3/20\n",
            "55000/55000 [==============================] - 4s 77us/sample - loss: 0.0158 - rounded_accuracy: 0.9306 - val_loss: 0.0145 - val_rounded_accuracy: 0.9342\n",
            "Epoch 4/20\n",
            "55000/55000 [==============================] - 4s 77us/sample - loss: 0.0134 - rounded_accuracy: 0.9374 - val_loss: 0.0119 - val_rounded_accuracy: 0.9427\n",
            "Epoch 5/20\n",
            "55000/55000 [==============================] - 4s 78us/sample - loss: 0.0119 - rounded_accuracy: 0.9418 - val_loss: 0.0116 - val_rounded_accuracy: 0.9409\n",
            "Epoch 6/20\n",
            "55000/55000 [==============================] - 4s 79us/sample - loss: 0.0110 - rounded_accuracy: 0.9442 - val_loss: 0.0105 - val_rounded_accuracy: 0.9446\n",
            "Epoch 7/20\n",
            "55000/55000 [==============================] - 4s 80us/sample - loss: 0.0102 - rounded_accuracy: 0.9466 - val_loss: 0.0100 - val_rounded_accuracy: 0.9461\n",
            "Epoch 8/20\n",
            "55000/55000 [==============================] - 4s 80us/sample - loss: 0.0096 - rounded_accuracy: 0.9482 - val_loss: 0.0092 - val_rounded_accuracy: 0.9485\n",
            "Epoch 9/20\n",
            "55000/55000 [==============================] - 4s 79us/sample - loss: 0.0091 - rounded_accuracy: 0.9498 - val_loss: 0.0084 - val_rounded_accuracy: 0.9520\n",
            "Epoch 10/20\n",
            "55000/55000 [==============================] - 4s 80us/sample - loss: 0.0087 - rounded_accuracy: 0.9508 - val_loss: 0.0086 - val_rounded_accuracy: 0.9503\n",
            "Epoch 11/20\n",
            "55000/55000 [==============================] - 4s 80us/sample - loss: 0.0083 - rounded_accuracy: 0.9523 - val_loss: 0.0079 - val_rounded_accuracy: 0.9537\n",
            "Epoch 12/20\n",
            "55000/55000 [==============================] - 4s 81us/sample - loss: 0.0081 - rounded_accuracy: 0.9528 - val_loss: 0.0076 - val_rounded_accuracy: 0.9544\n",
            "Epoch 13/20\n",
            "55000/55000 [==============================] - 4s 81us/sample - loss: 0.0077 - rounded_accuracy: 0.9539 - val_loss: 0.0071 - val_rounded_accuracy: 0.9567\n",
            "Epoch 14/20\n",
            "55000/55000 [==============================] - 4s 80us/sample - loss: 0.0074 - rounded_accuracy: 0.9549 - val_loss: 0.0069 - val_rounded_accuracy: 0.9571\n",
            "Epoch 15/20\n",
            "55000/55000 [==============================] - 4s 81us/sample - loss: 0.0073 - rounded_accuracy: 0.9555 - val_loss: 0.0069 - val_rounded_accuracy: 0.9568\n",
            "Epoch 16/20\n",
            "55000/55000 [==============================] - 4s 81us/sample - loss: 0.0070 - rounded_accuracy: 0.9565 - val_loss: 0.0068 - val_rounded_accuracy: 0.9573\n",
            "Epoch 17/20\n",
            "55000/55000 [==============================] - 4s 80us/sample - loss: 0.0067 - rounded_accuracy: 0.9573 - val_loss: 0.0062 - val_rounded_accuracy: 0.9597\n",
            "Epoch 18/20\n",
            "55000/55000 [==============================] - 4s 81us/sample - loss: 0.0066 - rounded_accuracy: 0.9580 - val_loss: 0.0067 - val_rounded_accuracy: 0.9567\n",
            "Epoch 19/20\n",
            "55000/55000 [==============================] - 4s 81us/sample - loss: 0.0063 - rounded_accuracy: 0.9589 - val_loss: 0.0065 - val_rounded_accuracy: 0.9575\n",
            "Epoch 20/20\n",
            "55000/55000 [==============================] - 4s 80us/sample - loss: 0.0061 - rounded_accuracy: 0.9597 - val_loss: 0.0060 - val_rounded_accuracy: 0.9602\n"
          ],
          "name": "stdout"
        }
      ]
    },
    {
      "cell_type": "code",
      "metadata": {
        "id": "IifV9pYnGLLX",
        "colab_type": "code",
        "colab": {}
      },
      "source": [
        "# save the encoder\n",
        "conv_encoder.save('conv_encoder.h5')"
      ],
      "execution_count": 0,
      "outputs": []
    },
    {
      "cell_type": "markdown",
      "metadata": {
        "id": "yhFNm5deVT-S",
        "colab_type": "text"
      },
      "source": [
        "Add a final layer for classification"
      ]
    },
    {
      "cell_type": "code",
      "metadata": {
        "id": "CvWVVi_LTmCU",
        "colab_type": "code",
        "outputId": "05fa930b-8777-44b5-8656-1a1f0c0dca4d",
        "colab": {
          "base_uri": "https://localhost:8080/",
          "height": 156
        }
      },
      "source": [
        "conv_encoder = keras.models.load_model('conv_encoder.h5')\n",
        "\n",
        "model_pretrained = tf.keras.models.Sequential([ \n",
        "                          conv_encoder,\n",
        "                          keras.layers.Flatten(),\n",
        "                          keras.layers.Dense(10, activation=\"softmax\"),\n",
        "                  ])\n",
        "model_pretrained.compile(optimizer=tf.keras.optimizers.Adam(learning_rate=0.01),\n",
        "              loss='sparse_categorical_crossentropy',\n",
        "              metrics=['accuracy'])"
      ],
      "execution_count": 0,
      "outputs": [
        {
          "output_type": "stream",
          "text": [
            "WARNING:tensorflow:From /tensorflow-1.15.2/python3.6/tensorflow_core/python/ops/init_ops.py:97: calling GlorotUniform.__init__ (from tensorflow.python.ops.init_ops) with dtype is deprecated and will be removed in a future version.\n",
            "Instructions for updating:\n",
            "Call initializer instance with the dtype argument instead of passing it to the constructor\n",
            "WARNING:tensorflow:From /tensorflow-1.15.2/python3.6/tensorflow_core/python/ops/init_ops.py:97: calling Zeros.__init__ (from tensorflow.python.ops.init_ops) with dtype is deprecated and will be removed in a future version.\n",
            "Instructions for updating:\n",
            "Call initializer instance with the dtype argument instead of passing it to the constructor\n",
            "WARNING:tensorflow:No training configuration found in save file: the model was *not* compiled. Compile it manually.\n"
          ],
          "name": "stdout"
        }
      ]
    },
    {
      "cell_type": "markdown",
      "metadata": {
        "id": "6nycjWLiVQo5",
        "colab_type": "text"
      },
      "source": [
        "Lets take a small number of training samples and try to train on that"
      ]
    },
    {
      "cell_type": "code",
      "metadata": {
        "id": "hT48Jvl2VdXY",
        "colab_type": "code",
        "colab": {}
      },
      "source": [
        "np.random.seed(42)\n",
        "labeled_idx = np.random.choice(np.arange(X_train.shape[0]), size=500, replace=False)\n",
        "X_train_small = X_train[labeled_idx]\n",
        "y_train_small = y_train[labeled_idx]"
      ],
      "execution_count": 0,
      "outputs": []
    },
    {
      "cell_type": "code",
      "metadata": {
        "id": "-vJ6w5P0DOig",
        "colab_type": "code",
        "outputId": "6acd0758-68b3-454e-c584-a7b13a8f4c99",
        "colab": {
          "base_uri": "https://localhost:8080/",
          "height": 34
        }
      },
      "source": [
        "X_train_small.shape\n"
      ],
      "execution_count": 0,
      "outputs": [
        {
          "output_type": "execute_result",
          "data": {
            "text/plain": [
              "(500, 28, 28, 1)"
            ]
          },
          "metadata": {
            "tags": []
          },
          "execution_count": 16
        }
      ]
    },
    {
      "cell_type": "code",
      "metadata": {
        "id": "7bv8_BQdDXyO",
        "colab_type": "code",
        "outputId": "9f999094-9e24-4d7f-b61a-cebaeda2741f",
        "colab": {
          "base_uri": "https://localhost:8080/",
          "height": 34
        }
      },
      "source": [
        "y_train_small.shape"
      ],
      "execution_count": 0,
      "outputs": [
        {
          "output_type": "execute_result",
          "data": {
            "text/plain": [
              "(500,)"
            ]
          },
          "metadata": {
            "tags": []
          },
          "execution_count": 17
        }
      ]
    },
    {
      "cell_type": "code",
      "metadata": {
        "id": "hrejhPFD9Q_B",
        "colab_type": "code",
        "outputId": "6df4c816-adb8-4c4a-d8ea-7a67871a9dc6",
        "colab": {
          "base_uri": "https://localhost:8080/",
          "height": 1000
        }
      },
      "source": [
        "# Fit the model\n",
        "history_small = model_pretrained.fit(X_train_small, y_train_small, epochs=30, validation_data=(X_valid, y_valid), batch_size=128)"
      ],
      "execution_count": 0,
      "outputs": [
        {
          "output_type": "stream",
          "text": [
            "Train on 500 samples, validate on 5000 samples\n",
            "Epoch 1/30\n",
            "500/500 [==============================] - 0s 690us/sample - loss: 8.6583 - acc: 0.1900 - val_loss: 2.0374 - val_acc: 0.3316\n",
            "Epoch 2/30\n",
            "500/500 [==============================] - 0s 266us/sample - loss: 2.0134 - acc: 0.3220 - val_loss: 1.6733 - val_acc: 0.4612\n",
            "Epoch 3/30\n",
            "500/500 [==============================] - 0s 258us/sample - loss: 1.4594 - acc: 0.4840 - val_loss: 1.2981 - val_acc: 0.5018\n",
            "Epoch 4/30\n",
            "500/500 [==============================] - 0s 258us/sample - loss: 1.2398 - acc: 0.4800 - val_loss: 1.0979 - val_acc: 0.5662\n",
            "Epoch 5/30\n",
            "500/500 [==============================] - 0s 271us/sample - loss: 1.0590 - acc: 0.5800 - val_loss: 1.0150 - val_acc: 0.5810\n",
            "Epoch 6/30\n",
            "500/500 [==============================] - 0s 248us/sample - loss: 0.9718 - acc: 0.5820 - val_loss: 0.9068 - val_acc: 0.6216\n",
            "Epoch 7/30\n",
            "500/500 [==============================] - 0s 263us/sample - loss: 0.8443 - acc: 0.6320 - val_loss: 0.8456 - val_acc: 0.6744\n",
            "Epoch 8/30\n",
            "500/500 [==============================] - 0s 242us/sample - loss: 0.7355 - acc: 0.6980 - val_loss: 0.7709 - val_acc: 0.7104\n",
            "Epoch 9/30\n",
            "500/500 [==============================] - 0s 253us/sample - loss: 0.6687 - acc: 0.7260 - val_loss: 0.7606 - val_acc: 0.7308\n",
            "Epoch 10/30\n",
            "500/500 [==============================] - 0s 250us/sample - loss: 0.5904 - acc: 0.7800 - val_loss: 0.7625 - val_acc: 0.7032\n",
            "Epoch 11/30\n",
            "500/500 [==============================] - 0s 251us/sample - loss: 0.5536 - acc: 0.7720 - val_loss: 0.7001 - val_acc: 0.7600\n",
            "Epoch 12/30\n",
            "500/500 [==============================] - 0s 252us/sample - loss: 0.4911 - acc: 0.8200 - val_loss: 0.6884 - val_acc: 0.7534\n",
            "Epoch 13/30\n",
            "500/500 [==============================] - 0s 251us/sample - loss: 0.4337 - acc: 0.8440 - val_loss: 0.6215 - val_acc: 0.7876\n",
            "Epoch 14/30\n",
            "500/500 [==============================] - 0s 237us/sample - loss: 0.3577 - acc: 0.8680 - val_loss: 0.6566 - val_acc: 0.7840\n",
            "Epoch 15/30\n",
            "500/500 [==============================] - 0s 261us/sample - loss: 0.3145 - acc: 0.8820 - val_loss: 0.7625 - val_acc: 0.7564\n",
            "Epoch 16/30\n",
            "500/500 [==============================] - 0s 254us/sample - loss: 0.3545 - acc: 0.8540 - val_loss: 0.7545 - val_acc: 0.7658\n",
            "Epoch 17/30\n",
            "500/500 [==============================] - 0s 259us/sample - loss: 0.3370 - acc: 0.8840 - val_loss: 0.8038 - val_acc: 0.7660\n",
            "Epoch 18/30\n",
            "500/500 [==============================] - 0s 280us/sample - loss: 0.3193 - acc: 0.8880 - val_loss: 0.8690 - val_acc: 0.7278\n",
            "Epoch 19/30\n",
            "500/500 [==============================] - 0s 269us/sample - loss: 0.3080 - acc: 0.8860 - val_loss: 0.6681 - val_acc: 0.7856\n",
            "Epoch 20/30\n",
            "500/500 [==============================] - 0s 280us/sample - loss: 0.2324 - acc: 0.9200 - val_loss: 0.6869 - val_acc: 0.7866\n",
            "Epoch 21/30\n",
            "500/500 [==============================] - 0s 245us/sample - loss: 0.1813 - acc: 0.9360 - val_loss: 0.7029 - val_acc: 0.7948\n",
            "Epoch 22/30\n",
            "500/500 [==============================] - 0s 250us/sample - loss: 0.1552 - acc: 0.9440 - val_loss: 0.7749 - val_acc: 0.7864\n",
            "Epoch 23/30\n",
            "500/500 [==============================] - 0s 277us/sample - loss: 0.1357 - acc: 0.9500 - val_loss: 0.8193 - val_acc: 0.7974\n",
            "Epoch 24/30\n",
            "500/500 [==============================] - 0s 278us/sample - loss: 0.1740 - acc: 0.9300 - val_loss: 0.8119 - val_acc: 0.7952\n",
            "Epoch 25/30\n",
            "500/500 [==============================] - 0s 272us/sample - loss: 0.1527 - acc: 0.9420 - val_loss: 0.8701 - val_acc: 0.7712\n",
            "Epoch 26/30\n",
            "500/500 [==============================] - 0s 265us/sample - loss: 0.1384 - acc: 0.9520 - val_loss: 0.8634 - val_acc: 0.7900\n",
            "Epoch 27/30\n",
            "500/500 [==============================] - 0s 254us/sample - loss: 0.1049 - acc: 0.9600 - val_loss: 0.8933 - val_acc: 0.7862\n",
            "Epoch 28/30\n",
            "500/500 [==============================] - 0s 269us/sample - loss: 0.0889 - acc: 0.9660 - val_loss: 0.9002 - val_acc: 0.7930\n",
            "Epoch 29/30\n",
            "500/500 [==============================] - 0s 254us/sample - loss: 0.0766 - acc: 0.9780 - val_loss: 0.9735 - val_acc: 0.7886\n",
            "Epoch 30/30\n",
            "500/500 [==============================] - 0s 281us/sample - loss: 0.0701 - acc: 0.9740 - val_loss: 0.9744 - val_acc: 0.7896\n"
          ],
          "name": "stdout"
        }
      ]
    },
    {
      "cell_type": "code",
      "metadata": {
        "id": "kiS89H1vAmOc",
        "colab_type": "code",
        "outputId": "96d381e8-d6d9-4bcd-f1b5-430e5ad459be",
        "colab": {
          "base_uri": "https://localhost:8080/",
          "height": 34
        }
      },
      "source": [
        "history_small.history.keys()"
      ],
      "execution_count": 0,
      "outputs": [
        {
          "output_type": "execute_result",
          "data": {
            "text/plain": [
              "dict_keys(['loss', 'acc', 'val_loss', 'val_acc'])"
            ]
          },
          "metadata": {
            "tags": []
          },
          "execution_count": 19
        }
      ]
    },
    {
      "cell_type": "code",
      "metadata": {
        "id": "LgnJGl5eCDFC",
        "colab_type": "code",
        "outputId": "33b3daff-3abc-4c38-caa9-599a0b131b7e",
        "colab": {
          "base_uri": "https://localhost:8080/",
          "height": 282
        }
      },
      "source": [
        "import matplotlib.pyplot as plt\n",
        "plt.plot(history_small.history['acc'], 'r')\n",
        "plt.plot(history_small.history['val_acc'], 'b')\n",
        "plt.legend(['train acc', 'valid acc'])"
      ],
      "execution_count": 0,
      "outputs": [
        {
          "output_type": "execute_result",
          "data": {
            "text/plain": [
              "<matplotlib.legend.Legend at 0x7f879c0557f0>"
            ]
          },
          "metadata": {
            "tags": []
          },
          "execution_count": 20
        },
        {
          "output_type": "display_data",
          "data": {
            "image/png": "[encoded data removed]",
            "text/plain": [
              "<Figure size 432x288 with 1 Axes>"
            ]
          },
          "metadata": {
            "tags": []
          }
        }
      ]
    },
    {
      "cell_type": "markdown",
      "metadata": {
        "id": "kbNtO2mtV12Q",
        "colab_type": "text"
      },
      "source": [
        "## Building a new encoder"
      ]
    },
    {
      "cell_type": "code",
      "metadata": {
        "id": "K07puMyrRdJs",
        "colab_type": "code",
        "colab": {}
      },
      "source": [
        "np.random.seed(42)\n",
        "conv_encoder_new = keras.models.Sequential([\n",
        "    keras.layers.Conv2D(32, kernel_size=3, padding=\"SAME\", activation=\"relu\", input_shape=[28, 28, 1]),\n",
        "    keras.layers.MaxPool2D(pool_size=2),\n",
        "    keras.layers.Conv2D(64, kernel_size=3, padding=\"SAME\", activation=\"relu\"),\n",
        "    keras.layers.MaxPool2D(pool_size=2),\n",
        "    keras.layers.Conv2D(128, kernel_size=3, padding=\"SAME\", activation=\"relu\"),\n",
        "    \n",
        "])"
      ],
      "execution_count": 0,
      "outputs": []
    },
    {
      "cell_type": "code",
      "metadata": {
        "id": "u1CsR2VpRdlr",
        "colab_type": "code",
        "colab": {}
      },
      "source": [
        "model_new = tf.keras.models.Sequential([conv_encoder_new, keras.layers.Flatten(),\n",
        "                          keras.layers.Dense(10, activation=\"softmax\")])\n",
        "model_new.compile(optimizer=tf.keras.optimizers.Adam(learning_rate=0.005),\n",
        "             loss='sparse_categorical_crossentropy',\n",
        "              metrics=['accuracy'])"
      ],
      "execution_count": 0,
      "outputs": []
    },
    {
      "cell_type": "code",
      "metadata": {
        "id": "MtCbdeYiR3bZ",
        "colab_type": "code",
        "outputId": "b8ca9aee-bd8d-424c-dc60-35cd79027aa4",
        "colab": {
          "base_uri": "https://localhost:8080/",
          "height": 1000
        }
      },
      "source": [
        "# Fit the new model\n",
        "history_small_new = model_new.fit(X_train_small, y_train_small, epochs=30, validation_data=(X_valid, y_valid), batch_size=128)"
      ],
      "execution_count": 0,
      "outputs": [
        {
          "output_type": "stream",
          "text": [
            "Train on 500 samples, validate on 5000 samples\n",
            "Epoch 1/30\n",
            "500/500 [==============================] - 0s 532us/sample - loss: 2.1342 - acc: 0.2500 - val_loss: 1.5306 - val_acc: 0.3318\n",
            "Epoch 2/30\n",
            "500/500 [==============================] - 0s 251us/sample - loss: 1.2811 - acc: 0.5220 - val_loss: 0.9624 - val_acc: 0.5974\n",
            "Epoch 3/30\n",
            "500/500 [==============================] - 0s 244us/sample - loss: 0.9593 - acc: 0.6100 - val_loss: 0.8480 - val_acc: 0.6912\n",
            "Epoch 4/30\n",
            "500/500 [==============================] - 0s 258us/sample - loss: 0.7505 - acc: 0.7040 - val_loss: 0.7620 - val_acc: 0.7272\n",
            "Epoch 5/30\n",
            "500/500 [==============================] - 0s 243us/sample - loss: 0.6908 - acc: 0.7300 - val_loss: 0.8775 - val_acc: 0.7064\n",
            "Epoch 6/30\n",
            "500/500 [==============================] - 0s 245us/sample - loss: 0.6075 - acc: 0.7660 - val_loss: 0.7202 - val_acc: 0.7276\n",
            "Epoch 7/30\n",
            "500/500 [==============================] - 0s 274us/sample - loss: 0.5521 - acc: 0.7700 - val_loss: 0.6062 - val_acc: 0.7818\n",
            "Epoch 8/30\n",
            "500/500 [==============================] - 0s 255us/sample - loss: 0.4351 - acc: 0.8280 - val_loss: 0.6767 - val_acc: 0.7710\n",
            "Epoch 9/30\n",
            "500/500 [==============================] - 0s 264us/sample - loss: 0.3995 - acc: 0.8400 - val_loss: 0.6675 - val_acc: 0.7876\n",
            "Epoch 10/30\n",
            "500/500 [==============================] - 0s 247us/sample - loss: 0.3982 - acc: 0.8380 - val_loss: 0.6574 - val_acc: 0.7918\n",
            "Epoch 11/30\n",
            "500/500 [==============================] - 0s 239us/sample - loss: 0.3499 - acc: 0.8720 - val_loss: 0.7034 - val_acc: 0.7592\n",
            "Epoch 12/30\n",
            "500/500 [==============================] - 0s 236us/sample - loss: 0.2703 - acc: 0.9020 - val_loss: 0.6338 - val_acc: 0.8038\n",
            "Epoch 13/30\n",
            "500/500 [==============================] - 0s 243us/sample - loss: 0.2042 - acc: 0.9280 - val_loss: 0.7804 - val_acc: 0.7746\n",
            "Epoch 14/30\n",
            "500/500 [==============================] - 0s 272us/sample - loss: 0.2207 - acc: 0.9280 - val_loss: 0.6839 - val_acc: 0.8178\n",
            "Epoch 15/30\n",
            "500/500 [==============================] - 0s 279us/sample - loss: 0.1548 - acc: 0.9500 - val_loss: 0.7567 - val_acc: 0.8102\n",
            "Epoch 16/30\n",
            "500/500 [==============================] - 0s 266us/sample - loss: 0.1323 - acc: 0.9620 - val_loss: 0.8904 - val_acc: 0.7808\n",
            "Epoch 17/30\n",
            "500/500 [==============================] - 0s 253us/sample - loss: 0.1241 - acc: 0.9520 - val_loss: 0.8282 - val_acc: 0.8078\n",
            "Epoch 18/30\n",
            "500/500 [==============================] - 0s 245us/sample - loss: 0.1108 - acc: 0.9620 - val_loss: 0.8511 - val_acc: 0.8034\n",
            "Epoch 19/30\n",
            "500/500 [==============================] - 0s 248us/sample - loss: 0.0781 - acc: 0.9760 - val_loss: 0.8779 - val_acc: 0.8050\n",
            "Epoch 20/30\n",
            "500/500 [==============================] - 0s 249us/sample - loss: 0.0903 - acc: 0.9720 - val_loss: 0.9270 - val_acc: 0.8058\n",
            "Epoch 21/30\n",
            "500/500 [==============================] - 0s 250us/sample - loss: 0.0630 - acc: 0.9760 - val_loss: 0.9616 - val_acc: 0.8042\n",
            "Epoch 22/30\n",
            "500/500 [==============================] - 0s 264us/sample - loss: 0.0833 - acc: 0.9800 - val_loss: 0.9884 - val_acc: 0.8122\n",
            "Epoch 23/30\n",
            "500/500 [==============================] - 0s 267us/sample - loss: 0.1059 - acc: 0.9640 - val_loss: 1.1076 - val_acc: 0.7740\n",
            "Epoch 24/30\n",
            "500/500 [==============================] - 0s 246us/sample - loss: 0.1284 - acc: 0.9480 - val_loss: 0.9460 - val_acc: 0.7962\n",
            "Epoch 25/30\n",
            "500/500 [==============================] - 0s 257us/sample - loss: 0.0783 - acc: 0.9700 - val_loss: 0.9480 - val_acc: 0.8012\n",
            "Epoch 26/30\n",
            "500/500 [==============================] - 0s 250us/sample - loss: 0.0517 - acc: 0.9820 - val_loss: 0.9652 - val_acc: 0.7988\n",
            "Epoch 27/30\n",
            "500/500 [==============================] - 0s 247us/sample - loss: 0.0319 - acc: 0.9880 - val_loss: 0.9373 - val_acc: 0.8136\n",
            "Epoch 28/30\n",
            "500/500 [==============================] - 0s 250us/sample - loss: 0.0363 - acc: 0.9940 - val_loss: 1.0095 - val_acc: 0.8044\n",
            "Epoch 29/30\n",
            "500/500 [==============================] - 0s 264us/sample - loss: 0.0299 - acc: 0.9900 - val_loss: 1.0583 - val_acc: 0.8110\n",
            "Epoch 30/30\n",
            "500/500 [==============================] - 0s 278us/sample - loss: 0.0122 - acc: 1.0000 - val_loss: 1.1670 - val_acc: 0.8056\n"
          ],
          "name": "stdout"
        }
      ]
    },
    {
      "cell_type": "code",
      "metadata": {
        "id": "OhALzLGcSNrm",
        "colab_type": "code",
        "outputId": "ea349977-256e-40bb-849c-a5ba128df91a",
        "colab": {
          "base_uri": "https://localhost:8080/",
          "height": 282
        }
      },
      "source": [
        "import matplotlib.pyplot as plt\n",
        "plt.plot(history_small_new.history['acc'], 'r')\n",
        "plt.plot(history_small_new.history['val_acc'], 'b')\n",
        "plt.legend(['train acc', 'valid acc'])"
      ],
      "execution_count": 0,
      "outputs": [
        {
          "output_type": "execute_result",
          "data": {
            "text/plain": [
              "<matplotlib.legend.Legend at 0x7f87941c72b0>"
            ]
          },
          "metadata": {
            "tags": []
          },
          "execution_count": 24
        },
        {
          "output_type": "display_data",
          "data": {
            "image/png": "[encoded data removed]",
            "text/plain": [
              "<Figure size 432x288 with 1 Axes>"
            ]
          },
          "metadata": {
            "tags": []
          }
        }
      ]
    },
    {
      "cell_type": "code",
      "metadata": {
        "id": "dPP6oZq_CreS",
        "colab_type": "code",
        "outputId": "64b67da9-13f1-4fa5-e949-7237e40cbf75",
        "colab": {
          "base_uri": "https://localhost:8080/",
          "height": 282
        }
      },
      "source": [
        "plt.plot(history_small.history['acc'],'y' ,history_small_new.history['acc'], 'g')\n",
        "plt.legend(['Pretrained Model training accuracy', 'New Model training accuracy'])"
      ],
      "execution_count": 0,
      "outputs": [
        {
          "output_type": "execute_result",
          "data": {
            "text/plain": [
              "<matplotlib.legend.Legend at 0x7f8794203a20>"
            ]
          },
          "metadata": {
            "tags": []
          },
          "execution_count": 25
        },
        {
          "output_type": "display_data",
          "data": {
            "image/png": "[encoded data removed]",
            "text/plain": [
              "<Figure size 432x288 with 1 Axes>"
            ]
          },
          "metadata": {
            "tags": []
          }
        }
      ]
    },
    {
      "cell_type": "code",
      "metadata": {
        "id": "3bjjcUtiTKVo",
        "colab_type": "code",
        "outputId": "9a174b82-682d-4556-902f-1e891043efa1",
        "colab": {
          "base_uri": "https://localhost:8080/",
          "height": 282
        }
      },
      "source": [
        "plt.plot(history_small.history['val_acc'],'y' ,history_small_new.history['val_acc'], 'g')\n",
        "plt.legend(['Pretrained Model testing accuracy', 'New Model testing accuracy'])"
      ],
      "execution_count": 0,
      "outputs": [
        {
          "output_type": "execute_result",
          "data": {
            "text/plain": [
              "<matplotlib.legend.Legend at 0x7f87941049e8>"
            ]
          },
          "metadata": {
            "tags": []
          },
          "execution_count": 26
        },
        {
          "output_type": "display_data",
          "data": {
            "image/png": "[encoded data removed]",
            "text/plain": [
              "<Figure size 432x288 with 1 Axes>"
            ]
          },
          "metadata": {
            "tags": []
          }
        }
      ]
    },
    {
      "cell_type": "markdown",
      "metadata": {
        "id": "GeW1SREmPAZG",
        "colab_type": "text"
      },
      "source": [
        "Is it better than an feedforward neural network?\n",
        "\n",
        "No, it is not clearly better\n"
      ]
    },
    {
      "cell_type": "code",
      "metadata": {
        "id": "puqbhaSoLml1",
        "colab_type": "code",
        "colab": {}
      },
      "source": [
        ""
      ],
      "execution_count": 0,
      "outputs": []
    }
  ]
}